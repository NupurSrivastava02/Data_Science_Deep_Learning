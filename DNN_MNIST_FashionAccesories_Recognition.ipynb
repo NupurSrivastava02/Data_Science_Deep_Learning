{
 "cells": [
  {
   "cell_type": "code",
   "execution_count": 14,
   "id": "847536a7",
   "metadata": {},
   "outputs": [
    {
     "name": "stdout",
     "output_type": "stream",
     "text": [
      "2.6.2\n",
      "1.19.5\n"
     ]
    }
   ],
   "source": [
    "import tensorflow as tf\n",
    "from tensorflow import keras\n",
    "import numpy as np\n",
    "import matplotlib.pyplot as plt\n",
    "print(tf.__version__)\n",
    "print(np.__version__)"
   ]
  },
  {
   "cell_type": "code",
   "execution_count": 15,
   "id": "a9bdc5a6",
   "metadata": {},
   "outputs": [],
   "source": [
    "fashion_mnist = keras.datasets.fashion_mnist"
   ]
  },
  {
   "cell_type": "code",
   "execution_count": 16,
   "id": "7fcd2a01",
   "metadata": {},
   "outputs": [],
   "source": [
    "(train_images,train_labels) , (test_images,test_labels) = fashion_mnist.load_data()"
   ]
  },
  {
   "cell_type": "code",
   "execution_count": 17,
   "id": "11ee3605",
   "metadata": {},
   "outputs": [
    {
     "data": {
      "text/plain": [
       "array([[  0,   0,   0,   0,   0,   0,   0,   0,   0,   0,   0,   0,   0,\n",
       "          0,   0,   0,   0,   0,   0,   0,   0,   0,   0,   0,   0,   0,\n",
       "          0,   0],\n",
       "       [  0,   0,   0,   0,   0,   0,   0,   0,   0,   0,   0,   0,   0,\n",
       "          0,   0,   0,   0,   0,   0,   0,   0,   0,   0,   0,   0,   0,\n",
       "          0,   0],\n",
       "       [  0,   0,   0,   0,   0,   0,   0,   0,   0,   0,   0,   0,   0,\n",
       "          0,   0,   0,   0,   0,   0,   0,   0,   0,   0,   0,   0,   0,\n",
       "          0,   0],\n",
       "       [  0,   0,   0,   0,   0,   0,   0,   0,   0,   0,   0,   0,   1,\n",
       "          0,   0,  13,  73,   0,   0,   1,   4,   0,   0,   0,   0,   1,\n",
       "          1,   0],\n",
       "       [  0,   0,   0,   0,   0,   0,   0,   0,   0,   0,   0,   0,   3,\n",
       "          0,  36, 136, 127,  62,  54,   0,   0,   0,   1,   3,   4,   0,\n",
       "          0,   3],\n",
       "       [  0,   0,   0,   0,   0,   0,   0,   0,   0,   0,   0,   0,   6,\n",
       "          0, 102, 204, 176, 134, 144, 123,  23,   0,   0,   0,   0,  12,\n",
       "         10,   0],\n",
       "       [  0,   0,   0,   0,   0,   0,   0,   0,   0,   0,   0,   0,   0,\n",
       "          0, 155, 236, 207, 178, 107, 156, 161, 109,  64,  23,  77, 130,\n",
       "         72,  15],\n",
       "       [  0,   0,   0,   0,   0,   0,   0,   0,   0,   0,   0,   1,   0,\n",
       "         69, 207, 223, 218, 216, 216, 163, 127, 121, 122, 146, 141,  88,\n",
       "        172,  66],\n",
       "       [  0,   0,   0,   0,   0,   0,   0,   0,   0,   1,   1,   1,   0,\n",
       "        200, 232, 232, 233, 229, 223, 223, 215, 213, 164, 127, 123, 196,\n",
       "        229,   0],\n",
       "       [  0,   0,   0,   0,   0,   0,   0,   0,   0,   0,   0,   0,   0,\n",
       "        183, 225, 216, 223, 228, 235, 227, 224, 222, 224, 221, 223, 245,\n",
       "        173,   0],\n",
       "       [  0,   0,   0,   0,   0,   0,   0,   0,   0,   0,   0,   0,   0,\n",
       "        193, 228, 218, 213, 198, 180, 212, 210, 211, 213, 223, 220, 243,\n",
       "        202,   0],\n",
       "       [  0,   0,   0,   0,   0,   0,   0,   0,   0,   1,   3,   0,  12,\n",
       "        219, 220, 212, 218, 192, 169, 227, 208, 218, 224, 212, 226, 197,\n",
       "        209,  52],\n",
       "       [  0,   0,   0,   0,   0,   0,   0,   0,   0,   0,   6,   0,  99,\n",
       "        244, 222, 220, 218, 203, 198, 221, 215, 213, 222, 220, 245, 119,\n",
       "        167,  56],\n",
       "       [  0,   0,   0,   0,   0,   0,   0,   0,   0,   4,   0,   0,  55,\n",
       "        236, 228, 230, 228, 240, 232, 213, 218, 223, 234, 217, 217, 209,\n",
       "         92,   0],\n",
       "       [  0,   0,   1,   4,   6,   7,   2,   0,   0,   0,   0,   0, 237,\n",
       "        226, 217, 223, 222, 219, 222, 221, 216, 223, 229, 215, 218, 255,\n",
       "         77,   0],\n",
       "       [  0,   3,   0,   0,   0,   0,   0,   0,   0,  62, 145, 204, 228,\n",
       "        207, 213, 221, 218, 208, 211, 218, 224, 223, 219, 215, 224, 244,\n",
       "        159,   0],\n",
       "       [  0,   0,   0,   0,  18,  44,  82, 107, 189, 228, 220, 222, 217,\n",
       "        226, 200, 205, 211, 230, 224, 234, 176, 188, 250, 248, 233, 238,\n",
       "        215,   0],\n",
       "       [  0,  57, 187, 208, 224, 221, 224, 208, 204, 214, 208, 209, 200,\n",
       "        159, 245, 193, 206, 223, 255, 255, 221, 234, 221, 211, 220, 232,\n",
       "        246,   0],\n",
       "       [  3, 202, 228, 224, 221, 211, 211, 214, 205, 205, 205, 220, 240,\n",
       "         80, 150, 255, 229, 221, 188, 154, 191, 210, 204, 209, 222, 228,\n",
       "        225,   0],\n",
       "       [ 98, 233, 198, 210, 222, 229, 229, 234, 249, 220, 194, 215, 217,\n",
       "        241,  65,  73, 106, 117, 168, 219, 221, 215, 217, 223, 223, 224,\n",
       "        229,  29],\n",
       "       [ 75, 204, 212, 204, 193, 205, 211, 225, 216, 185, 197, 206, 198,\n",
       "        213, 240, 195, 227, 245, 239, 223, 218, 212, 209, 222, 220, 221,\n",
       "        230,  67],\n",
       "       [ 48, 203, 183, 194, 213, 197, 185, 190, 194, 192, 202, 214, 219,\n",
       "        221, 220, 236, 225, 216, 199, 206, 186, 181, 177, 172, 181, 205,\n",
       "        206, 115],\n",
       "       [  0, 122, 219, 193, 179, 171, 183, 196, 204, 210, 213, 207, 211,\n",
       "        210, 200, 196, 194, 191, 195, 191, 198, 192, 176, 156, 167, 177,\n",
       "        210,  92],\n",
       "       [  0,   0,  74, 189, 212, 191, 175, 172, 175, 181, 185, 188, 189,\n",
       "        188, 193, 198, 204, 209, 210, 210, 211, 188, 188, 194, 192, 216,\n",
       "        170,   0],\n",
       "       [  2,   0,   0,   0,  66, 200, 222, 237, 239, 242, 246, 243, 244,\n",
       "        221, 220, 193, 191, 179, 182, 182, 181, 176, 166, 168,  99,  58,\n",
       "          0,   0],\n",
       "       [  0,   0,   0,   0,   0,   0,   0,  40,  61,  44,  72,  41,  35,\n",
       "          0,   0,   0,   0,   0,   0,   0,   0,   0,   0,   0,   0,   0,\n",
       "          0,   0],\n",
       "       [  0,   0,   0,   0,   0,   0,   0,   0,   0,   0,   0,   0,   0,\n",
       "          0,   0,   0,   0,   0,   0,   0,   0,   0,   0,   0,   0,   0,\n",
       "          0,   0],\n",
       "       [  0,   0,   0,   0,   0,   0,   0,   0,   0,   0,   0,   0,   0,\n",
       "          0,   0,   0,   0,   0,   0,   0,   0,   0,   0,   0,   0,   0,\n",
       "          0,   0]], dtype=uint8)"
      ]
     },
     "execution_count": 17,
     "metadata": {},
     "output_type": "execute_result"
    }
   ],
   "source": [
    "train_images[0]"
   ]
  },
  {
   "cell_type": "code",
   "execution_count": 18,
   "id": "0a42558a",
   "metadata": {},
   "outputs": [
    {
     "data": {
      "text/plain": [
       "(60000, 28, 28)"
      ]
     },
     "execution_count": 18,
     "metadata": {},
     "output_type": "execute_result"
    }
   ],
   "source": [
    "train_images.shape"
   ]
  },
  {
   "cell_type": "code",
   "execution_count": 19,
   "id": "04e5e62a",
   "metadata": {},
   "outputs": [
    {
     "data": {
      "text/plain": [
       "(10000, 28, 28)"
      ]
     },
     "execution_count": 19,
     "metadata": {},
     "output_type": "execute_result"
    }
   ],
   "source": [
    "test_images.shape"
   ]
  },
  {
   "cell_type": "code",
   "execution_count": 20,
   "id": "15619044",
   "metadata": {},
   "outputs": [
    {
     "data": {
      "image/png": "[encoded data removed]",
      "text/plain": [
       "<Figure size 432x288 with 1 Axes>"
      ]
     },
     "metadata": {},
     "output_type": "display_data"
    }
   ],
   "source": [
    "plt.imshow(train_images[0],cmap='gray_r')\n",
    "plt.xticks([])\n",
    "plt.yticks([])\n",
    "plt.show()"
   ]
  },
  {
   "cell_type": "code",
   "execution_count": 21,
   "id": "f06513e7",
   "metadata": {},
   "outputs": [
    {
     "data": {
      "image/png": "[encoded data removed]",
      "text/plain": [
       "<Figure size 432x288 with 1 Axes>"
      ]
     },
     "metadata": {},
     "output_type": "display_data"
    }
   ],
   "source": [
    "plt.imshow(train_images[0],cmap='gray_r')\n",
    "plt.title(train_labels[0])\n",
    "plt.xticks([])\n",
    "plt.yticks([])\n",
    "plt.show()"
   ]
  },
  {
   "cell_type": "code",
   "execution_count": 22,
   "id": "98bb5412",
   "metadata": {},
   "outputs": [
    {
     "data": {
      "image/png": "[encoded data removed]",
      "text/plain": [
       "<Figure size 432x288 with 1 Axes>"
      ]
     },
     "metadata": {},
     "output_type": "display_data"
    }
   ],
   "source": [
    "plt.imshow(train_images[1],cmap='gray_r')\n",
    "plt.title(train_labels[1])\n",
    "plt.xticks([])\n",
    "plt.yticks([])\n",
    "plt.show()"
   ]
  },
  {
   "cell_type": "code",
   "execution_count": 23,
   "id": "8c9fc133",
   "metadata": {},
   "outputs": [],
   "source": [
    "class_names = ['T-shirt/top', 'Trouser', 'Pullover', 'Dress', 'Coat',\n",
    "               'Sandal', 'Shirt', 'Sneaker', 'Bag', 'Ankle boot']"
   ]
  },
  {
   "cell_type": "code",
   "execution_count": 24,
   "id": "fc295c7b",
   "metadata": {},
   "outputs": [
    {
     "data": {
      "text/plain": [
       "['T-shirt/top',\n",
       " 'Trouser',\n",
       " 'Pullover',\n",
       " 'Dress',\n",
       " 'Coat',\n",
       " 'Sandal',\n",
       " 'Shirt',\n",
       " 'Sneaker',\n",
       " 'Bag',\n",
       " 'Ankle boot']"
      ]
     },
     "execution_count": 24,
     "metadata": {},
     "output_type": "execute_result"
    }
   ],
   "source": [
    "class_names"
   ]
  },
  {
   "cell_type": "code",
   "execution_count": 25,
   "id": "98ffc7a1",
   "metadata": {},
   "outputs": [
    {
     "data": {
      "text/plain": [
       "'T-shirt/top'"
      ]
     },
     "execution_count": 25,
     "metadata": {},
     "output_type": "execute_result"
    }
   ],
   "source": [
    "class_names[0]"
   ]
  },
  {
   "cell_type": "code",
   "execution_count": 28,
   "id": "c5e6a920",
   "metadata": {},
   "outputs": [
    {
     "data": {
      "image/png": "[encoded data removed]",
      "text/plain": [
       "<Figure size 432x288 with 1 Axes>"
      ]
     },
     "metadata": {},
     "output_type": "display_data"
    }
   ],
   "source": [
    "plt.imshow(train_images[100],cmap='gray_r')\n",
    "plt.title(class_names[train_labels[100]])\n",
    "plt.xticks([])\n",
    "plt.yticks([])\n",
    "plt.show()"
   ]
  },
  {
   "cell_type": "code",
   "execution_count": 34,
   "id": "5b92aebd",
   "metadata": {},
   "outputs": [
    {
     "data": {
      "image/png": "[encoded data removed]",
      "text/plain": [
       "<Figure size 720x720 with 25 Axes>"
      ]
     },
     "metadata": {},
     "output_type": "display_data"
    }
   ],
   "source": [
    "plt.figure(figsize=(10,10))\n",
    "for i in range(25):\n",
    "    plt.subplot(5,5,i+1)\n",
    "    plt.xticks([])\n",
    "    plt.yticks([])\n",
    "    plt.grid(False)\n",
    "    plt.imshow(train_images[i],cmap = plt.cm.binary)\n",
    "    plt.xlabel(class_names[train_labels[i]])\n",
    "plt.tight_layout()\n",
    "plt.show() "
   ]
  },
  {
   "cell_type": "code",
   "execution_count": 35,
   "id": "7d59bb04",
   "metadata": {},
   "outputs": [],
   "source": [
    "train_images = train_images/255.0\n",
    "test_images = test_images/255.0"
   ]
  },
  {
   "cell_type": "code",
   "execution_count": 38,
   "id": "84164b17",
   "metadata": {},
   "outputs": [
    {
     "data": {
      "text/plain": [
       "array([[0.        , 0.        , 0.        , 0.        , 0.        ,\n",
       "        0.        , 0.        , 0.        , 0.        , 0.        ,\n",
       "        0.        , 0.        , 0.        , 0.        , 0.        ,\n",
       "        0.        , 0.        , 0.        , 0.        , 0.        ,\n",
       "        0.        , 0.        , 0.        , 0.        , 0.        ,\n",
       "        0.        , 0.        , 0.        ],\n",
       "       [0.        , 0.        , 0.        , 0.        , 0.        ,\n",
       "        0.        , 0.        , 0.        , 0.        , 0.        ,\n",
       "        0.        , 0.        , 0.        , 0.        , 0.        ,\n",
       "        0.        , 0.        , 0.        , 0.        , 0.        ,\n",
       "        0.        , 0.        , 0.        , 0.        , 0.        ,\n",
       "        0.        , 0.        , 0.        ],\n",
       "       [0.        , 0.        , 0.        , 0.        , 0.        ,\n",
       "        0.        , 0.        , 0.        , 0.        , 0.        ,\n",
       "        0.        , 0.        , 0.        , 0.        , 0.        ,\n",
       "        0.        , 0.        , 0.        , 0.        , 0.        ,\n",
       "        0.        , 0.        , 0.        , 0.        , 0.        ,\n",
       "        0.        , 0.        , 0.        ],\n",
       "       [0.        , 0.        , 0.        , 0.        , 0.        ,\n",
       "        0.        , 0.        , 0.        , 0.        , 0.        ,\n",
       "        0.        , 0.        , 0.00392157, 0.        , 0.        ,\n",
       "        0.05098039, 0.28627451, 0.        , 0.        , 0.00392157,\n",
       "        0.01568627, 0.        , 0.        , 0.        , 0.        ,\n",
       "        0.00392157, 0.00392157, 0.        ],\n",
       "       [0.        , 0.        , 0.        , 0.        , 0.        ,\n",
       "        0.        , 0.        , 0.        , 0.        , 0.        ,\n",
       "        0.        , 0.        , 0.01176471, 0.        , 0.14117647,\n",
       "        0.53333333, 0.49803922, 0.24313725, 0.21176471, 0.        ,\n",
       "        0.        , 0.        , 0.00392157, 0.01176471, 0.01568627,\n",
       "        0.        , 0.        , 0.01176471],\n",
       "       [0.        , 0.        , 0.        , 0.        , 0.        ,\n",
       "        0.        , 0.        , 0.        , 0.        , 0.        ,\n",
       "        0.        , 0.        , 0.02352941, 0.        , 0.4       ,\n",
       "        0.8       , 0.69019608, 0.5254902 , 0.56470588, 0.48235294,\n",
       "        0.09019608, 0.        , 0.        , 0.        , 0.        ,\n",
       "        0.04705882, 0.03921569, 0.        ],\n",
       "       [0.        , 0.        , 0.        , 0.        , 0.        ,\n",
       "        0.        , 0.        , 0.        , 0.        , 0.        ,\n",
       "        0.        , 0.        , 0.        , 0.        , 0.60784314,\n",
       "        0.9254902 , 0.81176471, 0.69803922, 0.41960784, 0.61176471,\n",
       "        0.63137255, 0.42745098, 0.25098039, 0.09019608, 0.30196078,\n",
       "        0.50980392, 0.28235294, 0.05882353],\n",
       "       [0.        , 0.        , 0.        , 0.        , 0.        ,\n",
       "        0.        , 0.        , 0.        , 0.        , 0.        ,\n",
       "        0.        , 0.00392157, 0.        , 0.27058824, 0.81176471,\n",
       "        0.8745098 , 0.85490196, 0.84705882, 0.84705882, 0.63921569,\n",
       "        0.49803922, 0.4745098 , 0.47843137, 0.57254902, 0.55294118,\n",
       "        0.34509804, 0.6745098 , 0.25882353],\n",
       "       [0.        , 0.        , 0.        , 0.        , 0.        ,\n",
       "        0.        , 0.        , 0.        , 0.        , 0.00392157,\n",
       "        0.00392157, 0.00392157, 0.        , 0.78431373, 0.90980392,\n",
       "        0.90980392, 0.91372549, 0.89803922, 0.8745098 , 0.8745098 ,\n",
       "        0.84313725, 0.83529412, 0.64313725, 0.49803922, 0.48235294,\n",
       "        0.76862745, 0.89803922, 0.        ],\n",
       "       [0.        , 0.        , 0.        , 0.        , 0.        ,\n",
       "        0.        , 0.        , 0.        , 0.        , 0.        ,\n",
       "        0.        , 0.        , 0.        , 0.71764706, 0.88235294,\n",
       "        0.84705882, 0.8745098 , 0.89411765, 0.92156863, 0.89019608,\n",
       "        0.87843137, 0.87058824, 0.87843137, 0.86666667, 0.8745098 ,\n",
       "        0.96078431, 0.67843137, 0.        ],\n",
       "       [0.        , 0.        , 0.        , 0.        , 0.        ,\n",
       "        0.        , 0.        , 0.        , 0.        , 0.        ,\n",
       "        0.        , 0.        , 0.        , 0.75686275, 0.89411765,\n",
       "        0.85490196, 0.83529412, 0.77647059, 0.70588235, 0.83137255,\n",
       "        0.82352941, 0.82745098, 0.83529412, 0.8745098 , 0.8627451 ,\n",
       "        0.95294118, 0.79215686, 0.        ],\n",
       "       [0.        , 0.        , 0.        , 0.        , 0.        ,\n",
       "        0.        , 0.        , 0.        , 0.        , 0.00392157,\n",
       "        0.01176471, 0.        , 0.04705882, 0.85882353, 0.8627451 ,\n",
       "        0.83137255, 0.85490196, 0.75294118, 0.6627451 , 0.89019608,\n",
       "        0.81568627, 0.85490196, 0.87843137, 0.83137255, 0.88627451,\n",
       "        0.77254902, 0.81960784, 0.20392157],\n",
       "       [0.        , 0.        , 0.        , 0.        , 0.        ,\n",
       "        0.        , 0.        , 0.        , 0.        , 0.        ,\n",
       "        0.02352941, 0.        , 0.38823529, 0.95686275, 0.87058824,\n",
       "        0.8627451 , 0.85490196, 0.79607843, 0.77647059, 0.86666667,\n",
       "        0.84313725, 0.83529412, 0.87058824, 0.8627451 , 0.96078431,\n",
       "        0.46666667, 0.65490196, 0.21960784],\n",
       "       [0.        , 0.        , 0.        , 0.        , 0.        ,\n",
       "        0.        , 0.        , 0.        , 0.        , 0.01568627,\n",
       "        0.        , 0.        , 0.21568627, 0.9254902 , 0.89411765,\n",
       "        0.90196078, 0.89411765, 0.94117647, 0.90980392, 0.83529412,\n",
       "        0.85490196, 0.8745098 , 0.91764706, 0.85098039, 0.85098039,\n",
       "        0.81960784, 0.36078431, 0.        ],\n",
       "       [0.        , 0.        , 0.00392157, 0.01568627, 0.02352941,\n",
       "        0.02745098, 0.00784314, 0.        , 0.        , 0.        ,\n",
       "        0.        , 0.        , 0.92941176, 0.88627451, 0.85098039,\n",
       "        0.8745098 , 0.87058824, 0.85882353, 0.87058824, 0.86666667,\n",
       "        0.84705882, 0.8745098 , 0.89803922, 0.84313725, 0.85490196,\n",
       "        1.        , 0.30196078, 0.        ],\n",
       "       [0.        , 0.01176471, 0.        , 0.        , 0.        ,\n",
       "        0.        , 0.        , 0.        , 0.        , 0.24313725,\n",
       "        0.56862745, 0.8       , 0.89411765, 0.81176471, 0.83529412,\n",
       "        0.86666667, 0.85490196, 0.81568627, 0.82745098, 0.85490196,\n",
       "        0.87843137, 0.8745098 , 0.85882353, 0.84313725, 0.87843137,\n",
       "        0.95686275, 0.62352941, 0.        ],\n",
       "       [0.        , 0.        , 0.        , 0.        , 0.07058824,\n",
       "        0.17254902, 0.32156863, 0.41960784, 0.74117647, 0.89411765,\n",
       "        0.8627451 , 0.87058824, 0.85098039, 0.88627451, 0.78431373,\n",
       "        0.80392157, 0.82745098, 0.90196078, 0.87843137, 0.91764706,\n",
       "        0.69019608, 0.7372549 , 0.98039216, 0.97254902, 0.91372549,\n",
       "        0.93333333, 0.84313725, 0.        ],\n",
       "       [0.        , 0.22352941, 0.73333333, 0.81568627, 0.87843137,\n",
       "        0.86666667, 0.87843137, 0.81568627, 0.8       , 0.83921569,\n",
       "        0.81568627, 0.81960784, 0.78431373, 0.62352941, 0.96078431,\n",
       "        0.75686275, 0.80784314, 0.8745098 , 1.        , 1.        ,\n",
       "        0.86666667, 0.91764706, 0.86666667, 0.82745098, 0.8627451 ,\n",
       "        0.90980392, 0.96470588, 0.        ],\n",
       "       [0.01176471, 0.79215686, 0.89411765, 0.87843137, 0.86666667,\n",
       "        0.82745098, 0.82745098, 0.83921569, 0.80392157, 0.80392157,\n",
       "        0.80392157, 0.8627451 , 0.94117647, 0.31372549, 0.58823529,\n",
       "        1.        , 0.89803922, 0.86666667, 0.7372549 , 0.60392157,\n",
       "        0.74901961, 0.82352941, 0.8       , 0.81960784, 0.87058824,\n",
       "        0.89411765, 0.88235294, 0.        ],\n",
       "       [0.38431373, 0.91372549, 0.77647059, 0.82352941, 0.87058824,\n",
       "        0.89803922, 0.89803922, 0.91764706, 0.97647059, 0.8627451 ,\n",
       "        0.76078431, 0.84313725, 0.85098039, 0.94509804, 0.25490196,\n",
       "        0.28627451, 0.41568627, 0.45882353, 0.65882353, 0.85882353,\n",
       "        0.86666667, 0.84313725, 0.85098039, 0.8745098 , 0.8745098 ,\n",
       "        0.87843137, 0.89803922, 0.11372549],\n",
       "       [0.29411765, 0.8       , 0.83137255, 0.8       , 0.75686275,\n",
       "        0.80392157, 0.82745098, 0.88235294, 0.84705882, 0.7254902 ,\n",
       "        0.77254902, 0.80784314, 0.77647059, 0.83529412, 0.94117647,\n",
       "        0.76470588, 0.89019608, 0.96078431, 0.9372549 , 0.8745098 ,\n",
       "        0.85490196, 0.83137255, 0.81960784, 0.87058824, 0.8627451 ,\n",
       "        0.86666667, 0.90196078, 0.2627451 ],\n",
       "       [0.18823529, 0.79607843, 0.71764706, 0.76078431, 0.83529412,\n",
       "        0.77254902, 0.7254902 , 0.74509804, 0.76078431, 0.75294118,\n",
       "        0.79215686, 0.83921569, 0.85882353, 0.86666667, 0.8627451 ,\n",
       "        0.9254902 , 0.88235294, 0.84705882, 0.78039216, 0.80784314,\n",
       "        0.72941176, 0.70980392, 0.69411765, 0.6745098 , 0.70980392,\n",
       "        0.80392157, 0.80784314, 0.45098039],\n",
       "       [0.        , 0.47843137, 0.85882353, 0.75686275, 0.70196078,\n",
       "        0.67058824, 0.71764706, 0.76862745, 0.8       , 0.82352941,\n",
       "        0.83529412, 0.81176471, 0.82745098, 0.82352941, 0.78431373,\n",
       "        0.76862745, 0.76078431, 0.74901961, 0.76470588, 0.74901961,\n",
       "        0.77647059, 0.75294118, 0.69019608, 0.61176471, 0.65490196,\n",
       "        0.69411765, 0.82352941, 0.36078431],\n",
       "       [0.        , 0.        , 0.29019608, 0.74117647, 0.83137255,\n",
       "        0.74901961, 0.68627451, 0.6745098 , 0.68627451, 0.70980392,\n",
       "        0.7254902 , 0.7372549 , 0.74117647, 0.7372549 , 0.75686275,\n",
       "        0.77647059, 0.8       , 0.81960784, 0.82352941, 0.82352941,\n",
       "        0.82745098, 0.7372549 , 0.7372549 , 0.76078431, 0.75294118,\n",
       "        0.84705882, 0.66666667, 0.        ],\n",
       "       [0.00784314, 0.        , 0.        , 0.        , 0.25882353,\n",
       "        0.78431373, 0.87058824, 0.92941176, 0.9372549 , 0.94901961,\n",
       "        0.96470588, 0.95294118, 0.95686275, 0.86666667, 0.8627451 ,\n",
       "        0.75686275, 0.74901961, 0.70196078, 0.71372549, 0.71372549,\n",
       "        0.70980392, 0.69019608, 0.65098039, 0.65882353, 0.38823529,\n",
       "        0.22745098, 0.        , 0.        ],\n",
       "       [0.        , 0.        , 0.        , 0.        , 0.        ,\n",
       "        0.        , 0.        , 0.15686275, 0.23921569, 0.17254902,\n",
       "        0.28235294, 0.16078431, 0.1372549 , 0.        , 0.        ,\n",
       "        0.        , 0.        , 0.        , 0.        , 0.        ,\n",
       "        0.        , 0.        , 0.        , 0.        , 0.        ,\n",
       "        0.        , 0.        , 0.        ],\n",
       "       [0.        , 0.        , 0.        , 0.        , 0.        ,\n",
       "        0.        , 0.        , 0.        , 0.        , 0.        ,\n",
       "        0.        , 0.        , 0.        , 0.        , 0.        ,\n",
       "        0.        , 0.        , 0.        , 0.        , 0.        ,\n",
       "        0.        , 0.        , 0.        , 0.        , 0.        ,\n",
       "        0.        , 0.        , 0.        ],\n",
       "       [0.        , 0.        , 0.        , 0.        , 0.        ,\n",
       "        0.        , 0.        , 0.        , 0.        , 0.        ,\n",
       "        0.        , 0.        , 0.        , 0.        , 0.        ,\n",
       "        0.        , 0.        , 0.        , 0.        , 0.        ,\n",
       "        0.        , 0.        , 0.        , 0.        , 0.        ,\n",
       "        0.        , 0.        , 0.        ]])"
      ]
     },
     "execution_count": 38,
     "metadata": {},
     "output_type": "execute_result"
    }
   ],
   "source": [
    "train_images[0]"
   ]
  },
  {
   "cell_type": "code",
   "execution_count": 39,
   "id": "3ae915e9",
   "metadata": {},
   "outputs": [
    {
     "data": {
      "text/plain": [
       "array([[0.        , 0.        , 0.        , 0.        , 0.        ,\n",
       "        0.        , 0.        , 0.        , 0.        , 0.        ,\n",
       "        0.        , 0.        , 0.        , 0.        , 0.        ,\n",
       "        0.        , 0.        , 0.        , 0.        , 0.        ,\n",
       "        0.        , 0.        , 0.        , 0.        , 0.        ,\n",
       "        0.        , 0.        , 0.        ],\n",
       "       [0.        , 0.        , 0.        , 0.        , 0.        ,\n",
       "        0.        , 0.        , 0.        , 0.        , 0.        ,\n",
       "        0.        , 0.        , 0.        , 0.        , 0.        ,\n",
       "        0.        , 0.        , 0.        , 0.        , 0.        ,\n",
       "        0.        , 0.        , 0.        , 0.        , 0.        ,\n",
       "        0.        , 0.        , 0.        ],\n",
       "       [0.        , 0.        , 0.        , 0.        , 0.        ,\n",
       "        0.        , 0.        , 0.        , 0.        , 0.        ,\n",
       "        0.        , 0.        , 0.        , 0.        , 0.        ,\n",
       "        0.        , 0.        , 0.        , 0.        , 0.        ,\n",
       "        0.        , 0.        , 0.        , 0.        , 0.        ,\n",
       "        0.        , 0.        , 0.        ],\n",
       "       [0.        , 0.        , 0.        , 0.        , 0.        ,\n",
       "        0.        , 0.        , 0.        , 0.        , 0.        ,\n",
       "        0.        , 0.        , 0.        , 0.        , 0.        ,\n",
       "        0.        , 0.        , 0.        , 0.        , 0.        ,\n",
       "        0.        , 0.        , 0.        , 0.        , 0.        ,\n",
       "        0.        , 0.        , 0.        ],\n",
       "       [0.        , 0.        , 0.        , 0.        , 0.        ,\n",
       "        0.        , 0.        , 0.        , 0.        , 0.        ,\n",
       "        0.        , 0.        , 0.        , 0.        , 0.        ,\n",
       "        0.        , 0.        , 0.        , 0.        , 0.        ,\n",
       "        0.        , 0.        , 0.        , 0.        , 0.        ,\n",
       "        0.        , 0.        , 0.        ],\n",
       "       [0.        , 0.        , 0.        , 0.        , 0.        ,\n",
       "        0.        , 0.        , 0.        , 0.        , 0.        ,\n",
       "        0.        , 0.        , 0.        , 0.        , 0.        ,\n",
       "        0.        , 0.        , 0.        , 0.        , 0.        ,\n",
       "        0.        , 0.        , 0.        , 0.        , 0.        ,\n",
       "        0.        , 0.        , 0.        ],\n",
       "       [0.        , 0.        , 0.        , 0.        , 0.        ,\n",
       "        0.        , 0.        , 0.        , 0.        , 0.        ,\n",
       "        0.        , 0.        , 0.        , 0.        , 0.        ,\n",
       "        0.        , 0.        , 0.        , 0.        , 0.        ,\n",
       "        0.        , 0.        , 0.        , 0.        , 0.        ,\n",
       "        0.        , 0.        , 0.        ],\n",
       "       [0.        , 0.        , 0.        , 0.        , 0.        ,\n",
       "        0.        , 0.        , 0.        , 0.        , 0.        ,\n",
       "        0.        , 0.        , 0.        , 0.        , 0.        ,\n",
       "        0.        , 0.        , 0.        , 0.        , 0.01176471,\n",
       "        0.00392157, 0.        , 0.        , 0.02745098, 0.        ,\n",
       "        0.14509804, 0.        , 0.        ],\n",
       "       [0.        , 0.        , 0.        , 0.        , 0.        ,\n",
       "        0.        , 0.        , 0.        , 0.        , 0.        ,\n",
       "        0.        , 0.        , 0.        , 0.00392157, 0.00784314,\n",
       "        0.        , 0.10588235, 0.32941176, 0.04313725, 0.        ,\n",
       "        0.        , 0.        , 0.        , 0.        , 0.        ,\n",
       "        0.46666667, 0.        , 0.        ],\n",
       "       [0.        , 0.        , 0.        , 0.        , 0.        ,\n",
       "        0.        , 0.        , 0.        , 0.        , 0.        ,\n",
       "        0.        , 0.        , 0.        , 0.00392157, 0.        ,\n",
       "        0.        , 0.34509804, 0.56078431, 0.43137255, 0.        ,\n",
       "        0.        , 0.        , 0.        , 0.08627451, 0.36470588,\n",
       "        0.41568627, 0.        , 0.        ],\n",
       "       [0.        , 0.        , 0.        , 0.        , 0.        ,\n",
       "        0.        , 0.        , 0.        , 0.        , 0.        ,\n",
       "        0.        , 0.        , 0.        , 0.01568627, 0.        ,\n",
       "        0.20784314, 0.50588235, 0.47058824, 0.57647059, 0.68627451,\n",
       "        0.61568627, 0.65098039, 0.52941176, 0.60392157, 0.65882353,\n",
       "        0.54901961, 0.        , 0.        ],\n",
       "       [0.        , 0.        , 0.        , 0.        , 0.        ,\n",
       "        0.        , 0.        , 0.        , 0.        , 0.        ,\n",
       "        0.        , 0.        , 0.00784314, 0.        , 0.04313725,\n",
       "        0.5372549 , 0.50980392, 0.50196078, 0.62745098, 0.69019608,\n",
       "        0.62352941, 0.65490196, 0.69803922, 0.58431373, 0.59215686,\n",
       "        0.56470588, 0.        , 0.        ],\n",
       "       [0.        , 0.        , 0.        , 0.        , 0.        ,\n",
       "        0.        , 0.00392157, 0.        , 0.00784314, 0.00392157,\n",
       "        0.        , 0.01176471, 0.        , 0.        , 0.45098039,\n",
       "        0.44705882, 0.41568627, 0.5372549 , 0.65882353, 0.6       ,\n",
       "        0.61176471, 0.64705882, 0.65490196, 0.56078431, 0.61568627,\n",
       "        0.61960784, 0.04313725, 0.        ],\n",
       "       [0.        , 0.        , 0.        , 0.        , 0.00392157,\n",
       "        0.        , 0.        , 0.        , 0.        , 0.        ,\n",
       "        0.01176471, 0.        , 0.        , 0.34901961, 0.54509804,\n",
       "        0.35294118, 0.36862745, 0.6       , 0.58431373, 0.51372549,\n",
       "        0.59215686, 0.6627451 , 0.6745098 , 0.56078431, 0.62352941,\n",
       "        0.6627451 , 0.18823529, 0.        ],\n",
       "       [0.        , 0.        , 0.        , 0.        , 0.        ,\n",
       "        0.        , 0.00784314, 0.01568627, 0.00392157, 0.        ,\n",
       "        0.        , 0.        , 0.38431373, 0.53333333, 0.43137255,\n",
       "        0.42745098, 0.43137255, 0.63529412, 0.52941176, 0.56470588,\n",
       "        0.58431373, 0.62352941, 0.65490196, 0.56470588, 0.61960784,\n",
       "        0.6627451 , 0.46666667, 0.        ],\n",
       "       [0.        , 0.        , 0.00784314, 0.00784314, 0.00392157,\n",
       "        0.00784314, 0.        , 0.        , 0.        , 0.        ,\n",
       "        0.10196078, 0.42352941, 0.45882353, 0.38823529, 0.43529412,\n",
       "        0.45882353, 0.53333333, 0.61176471, 0.5254902 , 0.60392157,\n",
       "        0.60392157, 0.61176471, 0.62745098, 0.55294118, 0.57647059,\n",
       "        0.61176471, 0.69803922, 0.        ],\n",
       "       [0.01176471, 0.        , 0.        , 0.        , 0.        ,\n",
       "        0.        , 0.        , 0.08235294, 0.20784314, 0.36078431,\n",
       "        0.45882353, 0.43529412, 0.40392157, 0.45098039, 0.50588235,\n",
       "        0.5254902 , 0.56078431, 0.60392157, 0.64705882, 0.66666667,\n",
       "        0.60392157, 0.59215686, 0.60392157, 0.56078431, 0.54117647,\n",
       "        0.58823529, 0.64705882, 0.16862745],\n",
       "       [0.        , 0.        , 0.09019608, 0.21176471, 0.25490196,\n",
       "        0.29803922, 0.33333333, 0.4627451 , 0.50196078, 0.48235294,\n",
       "        0.43529412, 0.44313725, 0.4627451 , 0.49803922, 0.49019608,\n",
       "        0.54509804, 0.52156863, 0.53333333, 0.62745098, 0.54901961,\n",
       "        0.60784314, 0.63137255, 0.56470588, 0.60784314, 0.6745098 ,\n",
       "        0.63137255, 0.74117647, 0.24313725],\n",
       "       [0.        , 0.26666667, 0.36862745, 0.35294118, 0.43529412,\n",
       "        0.44705882, 0.43529412, 0.44705882, 0.45098039, 0.49803922,\n",
       "        0.52941176, 0.53333333, 0.56078431, 0.49411765, 0.49803922,\n",
       "        0.59215686, 0.60392157, 0.56078431, 0.58039216, 0.49019608,\n",
       "        0.63529412, 0.63529412, 0.56470588, 0.54117647, 0.6       ,\n",
       "        0.63529412, 0.76862745, 0.22745098],\n",
       "       [0.2745098 , 0.6627451 , 0.50588235, 0.40784314, 0.38431373,\n",
       "        0.39215686, 0.36862745, 0.38039216, 0.38431373, 0.4       ,\n",
       "        0.42352941, 0.41568627, 0.46666667, 0.47058824, 0.50588235,\n",
       "        0.58431373, 0.61176471, 0.65490196, 0.74509804, 0.74509804,\n",
       "        0.76862745, 0.77647059, 0.77647059, 0.73333333, 0.77254902,\n",
       "        0.74117647, 0.72156863, 0.14117647],\n",
       "       [0.0627451 , 0.49411765, 0.67058824, 0.7372549 , 0.7372549 ,\n",
       "        0.72156863, 0.67058824, 0.6       , 0.52941176, 0.47058824,\n",
       "        0.49411765, 0.49803922, 0.57254902, 0.7254902 , 0.76470588,\n",
       "        0.81960784, 0.81568627, 1.        , 0.81960784, 0.69411765,\n",
       "        0.96078431, 0.98823529, 0.98431373, 0.98431373, 0.96862745,\n",
       "        0.8627451 , 0.80784314, 0.19215686],\n",
       "       [0.        , 0.        , 0.        , 0.04705882, 0.2627451 ,\n",
       "        0.41568627, 0.64313725, 0.7254902 , 0.78039216, 0.82352941,\n",
       "        0.82745098, 0.82352941, 0.81568627, 0.74509804, 0.58823529,\n",
       "        0.32156863, 0.03137255, 0.        , 0.        , 0.        ,\n",
       "        0.69803922, 0.81568627, 0.7372549 , 0.68627451, 0.63529412,\n",
       "        0.61960784, 0.59215686, 0.04313725],\n",
       "       [0.        , 0.        , 0.        , 0.        , 0.        ,\n",
       "        0.        , 0.        , 0.        , 0.        , 0.        ,\n",
       "        0.        , 0.        , 0.        , 0.        , 0.        ,\n",
       "        0.        , 0.        , 0.        , 0.        , 0.        ,\n",
       "        0.        , 0.        , 0.        , 0.        , 0.        ,\n",
       "        0.        , 0.        , 0.        ],\n",
       "       [0.        , 0.        , 0.        , 0.        , 0.        ,\n",
       "        0.        , 0.        , 0.        , 0.        , 0.        ,\n",
       "        0.        , 0.        , 0.        , 0.        , 0.        ,\n",
       "        0.        , 0.        , 0.        , 0.        , 0.        ,\n",
       "        0.        , 0.        , 0.        , 0.        , 0.        ,\n",
       "        0.        , 0.        , 0.        ],\n",
       "       [0.        , 0.        , 0.        , 0.        , 0.        ,\n",
       "        0.        , 0.        , 0.        , 0.        , 0.        ,\n",
       "        0.        , 0.        , 0.        , 0.        , 0.        ,\n",
       "        0.        , 0.        , 0.        , 0.        , 0.        ,\n",
       "        0.        , 0.        , 0.        , 0.        , 0.        ,\n",
       "        0.        , 0.        , 0.        ],\n",
       "       [0.        , 0.        , 0.        , 0.        , 0.        ,\n",
       "        0.        , 0.        , 0.        , 0.        , 0.        ,\n",
       "        0.        , 0.        , 0.        , 0.        , 0.        ,\n",
       "        0.        , 0.        , 0.        , 0.        , 0.        ,\n",
       "        0.        , 0.        , 0.        , 0.        , 0.        ,\n",
       "        0.        , 0.        , 0.        ],\n",
       "       [0.        , 0.        , 0.        , 0.        , 0.        ,\n",
       "        0.        , 0.        , 0.        , 0.        , 0.        ,\n",
       "        0.        , 0.        , 0.        , 0.        , 0.        ,\n",
       "        0.        , 0.        , 0.        , 0.        , 0.        ,\n",
       "        0.        , 0.        , 0.        , 0.        , 0.        ,\n",
       "        0.        , 0.        , 0.        ],\n",
       "       [0.        , 0.        , 0.        , 0.        , 0.        ,\n",
       "        0.        , 0.        , 0.        , 0.        , 0.        ,\n",
       "        0.        , 0.        , 0.        , 0.        , 0.        ,\n",
       "        0.        , 0.        , 0.        , 0.        , 0.        ,\n",
       "        0.        , 0.        , 0.        , 0.        , 0.        ,\n",
       "        0.        , 0.        , 0.        ]])"
      ]
     },
     "execution_count": 39,
     "metadata": {},
     "output_type": "execute_result"
    }
   ],
   "source": [
    "test_images[0]"
   ]
  },
  {
   "cell_type": "code",
   "execution_count": 40,
   "id": "ec1d698e",
   "metadata": {},
   "outputs": [],
   "source": [
    "# Apply DNN "
   ]
  },
  {
   "cell_type": "code",
   "execution_count": 41,
   "id": "afb9e3d1",
   "metadata": {},
   "outputs": [],
   "source": [
    "model = keras.Sequential([\n",
    "    keras.layers.Flatten(input_shape=(28, 28)),\n",
    "    keras.layers.Dense(512, activation='relu'),\n",
    "    keras.layers.Dense(10,activation='softmax')\n",
    "])"
   ]
  },
  {
   "cell_type": "code",
   "execution_count": 42,
   "id": "71bb255e",
   "metadata": {},
   "outputs": [
    {
     "name": "stdout",
     "output_type": "stream",
     "text": [
      "Model: \"sequential\"\n",
      "_________________________________________________________________\n",
      "Layer (type)                 Output Shape              Param #   \n",
      "=================================================================\n",
      "flatten (Flatten)            (None, 784)               0         \n",
      "_________________________________________________________________\n",
      "dense (Dense)                (None, 512)               401920    \n",
      "_________________________________________________________________\n",
      "dense_1 (Dense)              (None, 10)                5130      \n",
      "=================================================================\n",
      "Total params: 407,050\n",
      "Trainable params: 407,050\n",
      "Non-trainable params: 0\n",
      "_________________________________________________________________\n"
     ]
    }
   ],
   "source": [
    "model.summary()"
   ]
  },
  {
   "cell_type": "code",
   "execution_count": 43,
   "id": "7b3142f8",
   "metadata": {},
   "outputs": [],
   "source": [
    "model.compile(optimizer='adam',loss='sparse_categorical_crossentropy',metrics=['accuracy'])"
   ]
  },
  {
   "cell_type": "code",
   "execution_count": 44,
   "id": "c57ec3ef",
   "metadata": {},
   "outputs": [
    {
     "name": "stdout",
     "output_type": "stream",
     "text": [
      "Epoch 1/50\n",
      "1500/1500 - 7s - loss: 0.4937 - accuracy: 0.8253 - val_loss: 0.4109 - val_accuracy: 0.8509\n",
      "Epoch 2/50\n",
      "1500/1500 - 7s - loss: 0.3670 - accuracy: 0.8657 - val_loss: 0.3599 - val_accuracy: 0.8685\n",
      "Epoch 3/50\n",
      "1500/1500 - 6s - loss: 0.3280 - accuracy: 0.8784 - val_loss: 0.3665 - val_accuracy: 0.8652\n",
      "Epoch 4/50\n",
      "1500/1500 - 7s - loss: 0.3057 - accuracy: 0.8867 - val_loss: 0.3539 - val_accuracy: 0.8694\n",
      "Epoch 5/50\n",
      "1500/1500 - 8s - loss: 0.2852 - accuracy: 0.8921 - val_loss: 0.3424 - val_accuracy: 0.8801\n",
      "Epoch 6/50\n",
      "1500/1500 - 8s - loss: 0.2684 - accuracy: 0.8998 - val_loss: 0.3270 - val_accuracy: 0.8831\n",
      "Epoch 7/50\n",
      "1500/1500 - 7s - loss: 0.2574 - accuracy: 0.9037 - val_loss: 0.3389 - val_accuracy: 0.8811\n",
      "Epoch 8/50\n",
      "1500/1500 - 7s - loss: 0.2433 - accuracy: 0.9090 - val_loss: 0.3170 - val_accuracy: 0.8873\n",
      "Epoch 9/50\n",
      "1500/1500 - 7s - loss: 0.2339 - accuracy: 0.9128 - val_loss: 0.3189 - val_accuracy: 0.8911\n",
      "Epoch 10/50\n",
      "1500/1500 - 7s - loss: 0.2234 - accuracy: 0.9150 - val_loss: 0.3274 - val_accuracy: 0.8886\n",
      "Epoch 11/50\n",
      "1500/1500 - 8s - loss: 0.2150 - accuracy: 0.9189 - val_loss: 0.3403 - val_accuracy: 0.8857\n",
      "Epoch 12/50\n",
      "1500/1500 - 7s - loss: 0.2067 - accuracy: 0.9228 - val_loss: 0.3269 - val_accuracy: 0.8884\n",
      "Epoch 13/50\n",
      "1500/1500 - 8s - loss: 0.1971 - accuracy: 0.9250 - val_loss: 0.3187 - val_accuracy: 0.8913\n",
      "Epoch 14/50\n",
      "1500/1500 - 10s - loss: 0.1926 - accuracy: 0.9278 - val_loss: 0.3308 - val_accuracy: 0.8894\n",
      "Epoch 15/50\n",
      "1500/1500 - 8s - loss: 0.1850 - accuracy: 0.9308 - val_loss: 0.3343 - val_accuracy: 0.8920\n",
      "Epoch 16/50\n",
      "1500/1500 - 11s - loss: 0.1784 - accuracy: 0.9320 - val_loss: 0.3292 - val_accuracy: 0.8910\n",
      "Epoch 17/50\n",
      "1500/1500 - 9s - loss: 0.1714 - accuracy: 0.9356 - val_loss: 0.3511 - val_accuracy: 0.8894\n",
      "Epoch 18/50\n",
      "1500/1500 - 10s - loss: 0.1669 - accuracy: 0.9366 - val_loss: 0.3529 - val_accuracy: 0.8917\n",
      "Epoch 19/50\n",
      "1500/1500 - 12s - loss: 0.1636 - accuracy: 0.9380 - val_loss: 0.3560 - val_accuracy: 0.8952\n",
      "Epoch 20/50\n",
      "1500/1500 - 11s - loss: 0.1528 - accuracy: 0.9421 - val_loss: 0.3498 - val_accuracy: 0.8926\n",
      "Epoch 21/50\n",
      "1500/1500 - 9s - loss: 0.1522 - accuracy: 0.9421 - val_loss: 0.3488 - val_accuracy: 0.8967\n",
      "Epoch 22/50\n",
      "1500/1500 - 9s - loss: 0.1452 - accuracy: 0.9457 - val_loss: 0.3515 - val_accuracy: 0.8942\n",
      "Epoch 23/50\n",
      "1500/1500 - 9s - loss: 0.1411 - accuracy: 0.9457 - val_loss: 0.3676 - val_accuracy: 0.8943\n",
      "Epoch 24/50\n",
      "1500/1500 - 9s - loss: 0.1389 - accuracy: 0.9474 - val_loss: 0.3803 - val_accuracy: 0.8952\n",
      "Epoch 25/50\n",
      "1500/1500 - 9s - loss: 0.1324 - accuracy: 0.9492 - val_loss: 0.3736 - val_accuracy: 0.8949\n",
      "Epoch 26/50\n",
      "1500/1500 - 10s - loss: 0.1296 - accuracy: 0.9511 - val_loss: 0.3810 - val_accuracy: 0.8943\n",
      "Epoch 27/50\n",
      "1500/1500 - 11s - loss: 0.1244 - accuracy: 0.9531 - val_loss: 0.4057 - val_accuracy: 0.8919\n",
      "Epoch 28/50\n",
      "1500/1500 - 11s - loss: 0.1234 - accuracy: 0.9530 - val_loss: 0.3890 - val_accuracy: 0.8953\n",
      "Epoch 29/50\n",
      "1500/1500 - 12s - loss: 0.1207 - accuracy: 0.9553 - val_loss: 0.3904 - val_accuracy: 0.8973\n",
      "Epoch 30/50\n",
      "1500/1500 - 11s - loss: 0.1177 - accuracy: 0.9549 - val_loss: 0.3856 - val_accuracy: 0.8955\n",
      "Epoch 31/50\n",
      "1500/1500 - 9s - loss: 0.1120 - accuracy: 0.9578 - val_loss: 0.4114 - val_accuracy: 0.8939\n",
      "Epoch 32/50\n",
      "1500/1500 - 8s - loss: 0.1067 - accuracy: 0.9595 - val_loss: 0.4460 - val_accuracy: 0.8926\n",
      "Epoch 33/50\n",
      "1500/1500 - 8s - loss: 0.1079 - accuracy: 0.9597 - val_loss: 0.4399 - val_accuracy: 0.8935\n",
      "Epoch 34/50\n",
      "1500/1500 - 8s - loss: 0.1020 - accuracy: 0.9613 - val_loss: 0.4287 - val_accuracy: 0.8975\n",
      "Epoch 35/50\n",
      "1500/1500 - 8s - loss: 0.1069 - accuracy: 0.9599 - val_loss: 0.4483 - val_accuracy: 0.8930\n",
      "Epoch 36/50\n",
      "1500/1500 - 8s - loss: 0.0956 - accuracy: 0.9634 - val_loss: 0.4616 - val_accuracy: 0.8915\n",
      "Epoch 37/50\n",
      "1500/1500 - 8s - loss: 0.0966 - accuracy: 0.9638 - val_loss: 0.4749 - val_accuracy: 0.8919\n",
      "Epoch 38/50\n",
      "1500/1500 - 8s - loss: 0.0963 - accuracy: 0.9632 - val_loss: 0.4447 - val_accuracy: 0.8964\n",
      "Epoch 39/50\n",
      "1500/1500 - 8s - loss: 0.0957 - accuracy: 0.9646 - val_loss: 0.4817 - val_accuracy: 0.8937\n",
      "Epoch 40/50\n",
      "1500/1500 - 8s - loss: 0.0894 - accuracy: 0.9662 - val_loss: 0.4825 - val_accuracy: 0.8960\n",
      "Epoch 41/50\n",
      "1500/1500 - 8s - loss: 0.0881 - accuracy: 0.9674 - val_loss: 0.4637 - val_accuracy: 0.8942\n",
      "Epoch 42/50\n",
      "1500/1500 - 8s - loss: 0.0886 - accuracy: 0.9665 - val_loss: 0.4724 - val_accuracy: 0.8986\n",
      "Epoch 43/50\n",
      "1500/1500 - 8s - loss: 0.0869 - accuracy: 0.9664 - val_loss: 0.5252 - val_accuracy: 0.8920\n",
      "Epoch 44/50\n",
      "1500/1500 - 8s - loss: 0.0845 - accuracy: 0.9679 - val_loss: 0.4864 - val_accuracy: 0.8965\n",
      "Epoch 45/50\n",
      "1500/1500 - 8s - loss: 0.0799 - accuracy: 0.9704 - val_loss: 0.5288 - val_accuracy: 0.8910\n",
      "Epoch 46/50\n",
      "1500/1500 - 8s - loss: 0.0800 - accuracy: 0.9700 - val_loss: 0.5299 - val_accuracy: 0.8921\n",
      "Epoch 47/50\n",
      "1500/1500 - 8s - loss: 0.0786 - accuracy: 0.9713 - val_loss: 0.5408 - val_accuracy: 0.8905\n",
      "Epoch 48/50\n",
      "1500/1500 - 8s - loss: 0.0769 - accuracy: 0.9715 - val_loss: 0.5072 - val_accuracy: 0.8926\n",
      "Epoch 49/50\n",
      "1500/1500 - 8s - loss: 0.0742 - accuracy: 0.9720 - val_loss: 0.5153 - val_accuracy: 0.8928\n",
      "Epoch 50/50\n",
      "1500/1500 - 10s - loss: 0.0746 - accuracy: 0.9726 - val_loss: 0.5027 - val_accuracy: 0.8938\n"
     ]
    }
   ],
   "source": [
    "history = model.fit(train_images, train_labels,validation_split=0.2, epochs=50,verbose=2)"
   ]
  },
  {
   "cell_type": "code",
   "execution_count": 45,
   "id": "294e2304",
   "metadata": {},
   "outputs": [
    {
     "data": {
      "text/plain": [
       "{'loss': [0.4936792850494385,\n",
       "  0.36695951223373413,\n",
       "  0.32797661423683167,\n",
       "  0.3056555688381195,\n",
       "  0.2852279841899872,\n",
       "  0.26840683817863464,\n",
       "  0.25740498304367065,\n",
       "  0.2432572841644287,\n",
       "  0.2339196354150772,\n",
       "  0.22338807582855225,\n",
       "  0.2149786800146103,\n",
       "  0.20665396749973297,\n",
       "  0.19706837832927704,\n",
       "  0.19264855980873108,\n",
       "  0.18504273891448975,\n",
       "  0.17844051122665405,\n",
       "  0.17137597501277924,\n",
       "  0.16693957149982452,\n",
       "  0.16364459693431854,\n",
       "  0.15277700126171112,\n",
       "  0.15223398804664612,\n",
       "  0.14522868394851685,\n",
       "  0.14106091856956482,\n",
       "  0.1388680636882782,\n",
       "  0.13235153257846832,\n",
       "  0.12964066863059998,\n",
       "  0.12435992062091827,\n",
       "  0.1234329342842102,\n",
       "  0.12067794054746628,\n",
       "  0.11766550689935684,\n",
       "  0.11195746809244156,\n",
       "  0.10670434683561325,\n",
       "  0.10787669569253922,\n",
       "  0.1020168662071228,\n",
       "  0.1069086417555809,\n",
       "  0.09564448148012161,\n",
       "  0.09664643555879593,\n",
       "  0.09628203511238098,\n",
       "  0.09565596282482147,\n",
       "  0.08943688124418259,\n",
       "  0.08805537223815918,\n",
       "  0.08864055573940277,\n",
       "  0.08685417473316193,\n",
       "  0.0845477506518364,\n",
       "  0.07987387478351593,\n",
       "  0.07996610552072525,\n",
       "  0.07855834066867828,\n",
       "  0.07691775262355804,\n",
       "  0.07420652359724045,\n",
       "  0.07457778602838516],\n",
       " 'accuracy': [0.8253333568572998,\n",
       "  0.8657291531562805,\n",
       "  0.8784166574478149,\n",
       "  0.8867291808128357,\n",
       "  0.8921458125114441,\n",
       "  0.8997916579246521,\n",
       "  0.9036874771118164,\n",
       "  0.9089791774749756,\n",
       "  0.9127916693687439,\n",
       "  0.9150208234786987,\n",
       "  0.918874979019165,\n",
       "  0.9228125214576721,\n",
       "  0.924958348274231,\n",
       "  0.9278125166893005,\n",
       "  0.9307708144187927,\n",
       "  0.9320208430290222,\n",
       "  0.9356041550636292,\n",
       "  0.9365624785423279,\n",
       "  0.9379791617393494,\n",
       "  0.9420833587646484,\n",
       "  0.9420833587646484,\n",
       "  0.9456666707992554,\n",
       "  0.945687472820282,\n",
       "  0.9473541378974915,\n",
       "  0.9491875171661377,\n",
       "  0.9510625004768372,\n",
       "  0.9530624747276306,\n",
       "  0.9530208110809326,\n",
       "  0.9552500247955322,\n",
       "  0.9548541903495789,\n",
       "  0.9577916860580444,\n",
       "  0.9595416784286499,\n",
       "  0.9596874713897705,\n",
       "  0.961270809173584,\n",
       "  0.9598958492279053,\n",
       "  0.9633749723434448,\n",
       "  0.9638333320617676,\n",
       "  0.9631666541099548,\n",
       "  0.9645833373069763,\n",
       "  0.9662291407585144,\n",
       "  0.9674166440963745,\n",
       "  0.9664999842643738,\n",
       "  0.9664375185966492,\n",
       "  0.9679375290870667,\n",
       "  0.9704166650772095,\n",
       "  0.9700208306312561,\n",
       "  0.9712916612625122,\n",
       "  0.9714583158493042,\n",
       "  0.9720208048820496,\n",
       "  0.9725624918937683],\n",
       " 'val_loss': [0.4108814299106598,\n",
       "  0.35990768671035767,\n",
       "  0.3664829432964325,\n",
       "  0.3539220094680786,\n",
       "  0.34235629439353943,\n",
       "  0.3270080089569092,\n",
       "  0.3388698101043701,\n",
       "  0.31702709197998047,\n",
       "  0.31892821192741394,\n",
       "  0.32740262150764465,\n",
       "  0.34034988284111023,\n",
       "  0.32688817381858826,\n",
       "  0.3186620771884918,\n",
       "  0.33082646131515503,\n",
       "  0.33428439497947693,\n",
       "  0.329189658164978,\n",
       "  0.35111379623413086,\n",
       "  0.35291987657546997,\n",
       "  0.3559606671333313,\n",
       "  0.3498227000236511,\n",
       "  0.3488446772098541,\n",
       "  0.35149046778678894,\n",
       "  0.3676227331161499,\n",
       "  0.380331426858902,\n",
       "  0.3736044466495514,\n",
       "  0.38103213906288147,\n",
       "  0.4056835472583771,\n",
       "  0.388997346162796,\n",
       "  0.39040911197662354,\n",
       "  0.38561978936195374,\n",
       "  0.4113963544368744,\n",
       "  0.44604870676994324,\n",
       "  0.43994855880737305,\n",
       "  0.4287406802177429,\n",
       "  0.44831234216690063,\n",
       "  0.46163931488990784,\n",
       "  0.4749198257923126,\n",
       "  0.4446854591369629,\n",
       "  0.481710821390152,\n",
       "  0.4825355112552643,\n",
       "  0.46374377608299255,\n",
       "  0.4724184572696686,\n",
       "  0.5252174735069275,\n",
       "  0.4863705635070801,\n",
       "  0.5287890434265137,\n",
       "  0.5299245715141296,\n",
       "  0.5408183932304382,\n",
       "  0.507196307182312,\n",
       "  0.5153036713600159,\n",
       "  0.5026871562004089],\n",
       " 'val_accuracy': [0.8509166836738586,\n",
       "  0.8684999942779541,\n",
       "  0.8652499914169312,\n",
       "  0.8694166541099548,\n",
       "  0.8800833225250244,\n",
       "  0.8830833435058594,\n",
       "  0.8810833096504211,\n",
       "  0.8872500061988831,\n",
       "  0.8910833597183228,\n",
       "  0.8885833621025085,\n",
       "  0.8856666684150696,\n",
       "  0.8884166479110718,\n",
       "  0.8912500143051147,\n",
       "  0.8894166946411133,\n",
       "  0.8920000195503235,\n",
       "  0.890999972820282,\n",
       "  0.8894166946411133,\n",
       "  0.8917499780654907,\n",
       "  0.8951666951179504,\n",
       "  0.8925833106040955,\n",
       "  0.8966666460037231,\n",
       "  0.8941666483879089,\n",
       "  0.8943333625793457,\n",
       "  0.8951666951179504,\n",
       "  0.8949166536331177,\n",
       "  0.8943333625793457,\n",
       "  0.8919166922569275,\n",
       "  0.8952500224113464,\n",
       "  0.8973333239555359,\n",
       "  0.8955000042915344,\n",
       "  0.893916666507721,\n",
       "  0.8925833106040955,\n",
       "  0.8934999704360962,\n",
       "  0.8974999785423279,\n",
       "  0.8930000066757202,\n",
       "  0.8914999961853027,\n",
       "  0.8919166922569275,\n",
       "  0.8964166641235352,\n",
       "  0.893666684627533,\n",
       "  0.8960000276565552,\n",
       "  0.8942499756813049,\n",
       "  0.8985833525657654,\n",
       "  0.8920000195503235,\n",
       "  0.8964999914169312,\n",
       "  0.890999972820282,\n",
       "  0.8920833468437195,\n",
       "  0.890500009059906,\n",
       "  0.8925833106040955,\n",
       "  0.8928333520889282,\n",
       "  0.893833339214325]}"
      ]
     },
     "execution_count": 45,
     "metadata": {},
     "output_type": "execute_result"
    }
   ],
   "source": [
    "history.history"
   ]
  },
  {
   "cell_type": "code",
   "execution_count": 46,
   "id": "46b02dd8",
   "metadata": {},
   "outputs": [
    {
     "data": {
      "text/plain": [
       "[0.4936792850494385,\n",
       " 0.36695951223373413,\n",
       " 0.32797661423683167,\n",
       " 0.3056555688381195,\n",
       " 0.2852279841899872,\n",
       " 0.26840683817863464,\n",
       " 0.25740498304367065,\n",
       " 0.2432572841644287,\n",
       " 0.2339196354150772,\n",
       " 0.22338807582855225,\n",
       " 0.2149786800146103,\n",
       " 0.20665396749973297,\n",
       " 0.19706837832927704,\n",
       " 0.19264855980873108,\n",
       " 0.18504273891448975,\n",
       " 0.17844051122665405,\n",
       " 0.17137597501277924,\n",
       " 0.16693957149982452,\n",
       " 0.16364459693431854,\n",
       " 0.15277700126171112,\n",
       " 0.15223398804664612,\n",
       " 0.14522868394851685,\n",
       " 0.14106091856956482,\n",
       " 0.1388680636882782,\n",
       " 0.13235153257846832,\n",
       " 0.12964066863059998,\n",
       " 0.12435992062091827,\n",
       " 0.1234329342842102,\n",
       " 0.12067794054746628,\n",
       " 0.11766550689935684,\n",
       " 0.11195746809244156,\n",
       " 0.10670434683561325,\n",
       " 0.10787669569253922,\n",
       " 0.1020168662071228,\n",
       " 0.1069086417555809,\n",
       " 0.09564448148012161,\n",
       " 0.09664643555879593,\n",
       " 0.09628203511238098,\n",
       " 0.09565596282482147,\n",
       " 0.08943688124418259,\n",
       " 0.08805537223815918,\n",
       " 0.08864055573940277,\n",
       " 0.08685417473316193,\n",
       " 0.0845477506518364,\n",
       " 0.07987387478351593,\n",
       " 0.07996610552072525,\n",
       " 0.07855834066867828,\n",
       " 0.07691775262355804,\n",
       " 0.07420652359724045,\n",
       " 0.07457778602838516]"
      ]
     },
     "execution_count": 46,
     "metadata": {},
     "output_type": "execute_result"
    }
   ],
   "source": [
    "history.history['loss']"
   ]
  },
  {
   "cell_type": "code",
   "execution_count": 47,
   "id": "64e7f9d1",
   "metadata": {},
   "outputs": [
    {
     "data": {
      "text/plain": [
       "[0.8253333568572998,\n",
       " 0.8657291531562805,\n",
       " 0.8784166574478149,\n",
       " 0.8867291808128357,\n",
       " 0.8921458125114441,\n",
       " 0.8997916579246521,\n",
       " 0.9036874771118164,\n",
       " 0.9089791774749756,\n",
       " 0.9127916693687439,\n",
       " 0.9150208234786987,\n",
       " 0.918874979019165,\n",
       " 0.9228125214576721,\n",
       " 0.924958348274231,\n",
       " 0.9278125166893005,\n",
       " 0.9307708144187927,\n",
       " 0.9320208430290222,\n",
       " 0.9356041550636292,\n",
       " 0.9365624785423279,\n",
       " 0.9379791617393494,\n",
       " 0.9420833587646484,\n",
       " 0.9420833587646484,\n",
       " 0.9456666707992554,\n",
       " 0.945687472820282,\n",
       " 0.9473541378974915,\n",
       " 0.9491875171661377,\n",
       " 0.9510625004768372,\n",
       " 0.9530624747276306,\n",
       " 0.9530208110809326,\n",
       " 0.9552500247955322,\n",
       " 0.9548541903495789,\n",
       " 0.9577916860580444,\n",
       " 0.9595416784286499,\n",
       " 0.9596874713897705,\n",
       " 0.961270809173584,\n",
       " 0.9598958492279053,\n",
       " 0.9633749723434448,\n",
       " 0.9638333320617676,\n",
       " 0.9631666541099548,\n",
       " 0.9645833373069763,\n",
       " 0.9662291407585144,\n",
       " 0.9674166440963745,\n",
       " 0.9664999842643738,\n",
       " 0.9664375185966492,\n",
       " 0.9679375290870667,\n",
       " 0.9704166650772095,\n",
       " 0.9700208306312561,\n",
       " 0.9712916612625122,\n",
       " 0.9714583158493042,\n",
       " 0.9720208048820496,\n",
       " 0.9725624918937683]"
      ]
     },
     "execution_count": 47,
     "metadata": {},
     "output_type": "execute_result"
    }
   ],
   "source": [
    "history.history['accuracy']"
   ]
  },
  {
   "cell_type": "code",
   "execution_count": 48,
   "id": "b203bf7f",
   "metadata": {},
   "outputs": [
    {
     "data": {
      "text/plain": [
       "[0.4108814299106598,\n",
       " 0.35990768671035767,\n",
       " 0.3664829432964325,\n",
       " 0.3539220094680786,\n",
       " 0.34235629439353943,\n",
       " 0.3270080089569092,\n",
       " 0.3388698101043701,\n",
       " 0.31702709197998047,\n",
       " 0.31892821192741394,\n",
       " 0.32740262150764465,\n",
       " 0.34034988284111023,\n",
       " 0.32688817381858826,\n",
       " 0.3186620771884918,\n",
       " 0.33082646131515503,\n",
       " 0.33428439497947693,\n",
       " 0.329189658164978,\n",
       " 0.35111379623413086,\n",
       " 0.35291987657546997,\n",
       " 0.3559606671333313,\n",
       " 0.3498227000236511,\n",
       " 0.3488446772098541,\n",
       " 0.35149046778678894,\n",
       " 0.3676227331161499,\n",
       " 0.380331426858902,\n",
       " 0.3736044466495514,\n",
       " 0.38103213906288147,\n",
       " 0.4056835472583771,\n",
       " 0.388997346162796,\n",
       " 0.39040911197662354,\n",
       " 0.38561978936195374,\n",
       " 0.4113963544368744,\n",
       " 0.44604870676994324,\n",
       " 0.43994855880737305,\n",
       " 0.4287406802177429,\n",
       " 0.44831234216690063,\n",
       " 0.46163931488990784,\n",
       " 0.4749198257923126,\n",
       " 0.4446854591369629,\n",
       " 0.481710821390152,\n",
       " 0.4825355112552643,\n",
       " 0.46374377608299255,\n",
       " 0.4724184572696686,\n",
       " 0.5252174735069275,\n",
       " 0.4863705635070801,\n",
       " 0.5287890434265137,\n",
       " 0.5299245715141296,\n",
       " 0.5408183932304382,\n",
       " 0.507196307182312,\n",
       " 0.5153036713600159,\n",
       " 0.5026871562004089]"
      ]
     },
     "execution_count": 48,
     "metadata": {},
     "output_type": "execute_result"
    }
   ],
   "source": [
    "history.history['val_loss']"
   ]
  },
  {
   "cell_type": "code",
   "execution_count": 49,
   "id": "f9187b81",
   "metadata": {},
   "outputs": [
    {
     "data": {
      "text/plain": [
       "[0.8509166836738586,\n",
       " 0.8684999942779541,\n",
       " 0.8652499914169312,\n",
       " 0.8694166541099548,\n",
       " 0.8800833225250244,\n",
       " 0.8830833435058594,\n",
       " 0.8810833096504211,\n",
       " 0.8872500061988831,\n",
       " 0.8910833597183228,\n",
       " 0.8885833621025085,\n",
       " 0.8856666684150696,\n",
       " 0.8884166479110718,\n",
       " 0.8912500143051147,\n",
       " 0.8894166946411133,\n",
       " 0.8920000195503235,\n",
       " 0.890999972820282,\n",
       " 0.8894166946411133,\n",
       " 0.8917499780654907,\n",
       " 0.8951666951179504,\n",
       " 0.8925833106040955,\n",
       " 0.8966666460037231,\n",
       " 0.8941666483879089,\n",
       " 0.8943333625793457,\n",
       " 0.8951666951179504,\n",
       " 0.8949166536331177,\n",
       " 0.8943333625793457,\n",
       " 0.8919166922569275,\n",
       " 0.8952500224113464,\n",
       " 0.8973333239555359,\n",
       " 0.8955000042915344,\n",
       " 0.893916666507721,\n",
       " 0.8925833106040955,\n",
       " 0.8934999704360962,\n",
       " 0.8974999785423279,\n",
       " 0.8930000066757202,\n",
       " 0.8914999961853027,\n",
       " 0.8919166922569275,\n",
       " 0.8964166641235352,\n",
       " 0.893666684627533,\n",
       " 0.8960000276565552,\n",
       " 0.8942499756813049,\n",
       " 0.8985833525657654,\n",
       " 0.8920000195503235,\n",
       " 0.8964999914169312,\n",
       " 0.890999972820282,\n",
       " 0.8920833468437195,\n",
       " 0.890500009059906,\n",
       " 0.8925833106040955,\n",
       " 0.8928333520889282,\n",
       " 0.893833339214325]"
      ]
     },
     "execution_count": 49,
     "metadata": {},
     "output_type": "execute_result"
    }
   ],
   "source": [
    "history.history['val_accuracy']"
   ]
  },
  {
   "cell_type": "code",
   "execution_count": 50,
   "id": "17b8154b",
   "metadata": {},
   "outputs": [
    {
     "data": {
      "image/png": "[encoded data removed]",
      "text/plain": [
       "<Figure size 576x288 with 2 Axes>"
      ]
     },
     "metadata": {
      "needs_background": "light"
     },
     "output_type": "display_data"
    }
   ],
   "source": [
    "epochs = 50\n",
    "acc = history.history['accuracy']\n",
    "val_acc = history.history['val_accuracy']\n",
    "\n",
    "loss = history.history['loss']\n",
    "val_loss = history.history['val_loss']\n",
    "\n",
    "epochs_range = range(epochs)\n",
    "\n",
    "plt.figure(figsize=(8, 4))\n",
    "plt.subplot(1, 2, 1)\n",
    "plt.plot(epochs_range, acc, label='Training Accuracy')\n",
    "plt.plot(epochs_range, val_acc, label='Validation Accuracy')\n",
    "plt.legend(loc=0)\n",
    "plt.title('Training and Validation Accuracy')\n",
    "\n",
    "plt.subplot(1, 2, 2)\n",
    "plt.plot(epochs_range, loss, label='Training Loss')\n",
    "plt.plot(epochs_range, val_loss, label='Validation Loss')\n",
    "plt.legend(loc=0)\n",
    "plt.title('Training and Validation Loss')\n",
    "plt.show()"
   ]
  },
  {
   "cell_type": "code",
   "execution_count": 51,
   "id": "741faecd",
   "metadata": {},
   "outputs": [],
   "source": [
    "# early Stopping"
   ]
  },
  {
   "cell_type": "code",
   "execution_count": 52,
   "id": "cb9445b0",
   "metadata": {},
   "outputs": [],
   "source": [
    "model_new = keras.Sequential([\n",
    "    keras.layers.Flatten(input_shape=(28, 28)),\n",
    "    keras.layers.Dense(512, activation='relu'),\n",
    "    keras.layers.Dense(10,activation='softmax')\n",
    "])"
   ]
  },
  {
   "cell_type": "code",
   "execution_count": 53,
   "id": "4700af53",
   "metadata": {},
   "outputs": [],
   "source": [
    "model_new.compile(optimizer='adam',\n",
    "              loss=\"sparse_categorical_crossentropy\",\n",
    "              metrics=['accuracy'])"
   ]
  },
  {
   "cell_type": "code",
   "execution_count": 54,
   "id": "9132cfc4",
   "metadata": {},
   "outputs": [],
   "source": [
    "callback = keras.callbacks.EarlyStopping(monitor='val_loss',patience=5)"
   ]
  },
  {
   "cell_type": "code",
   "execution_count": 55,
   "id": "bb6e06a5",
   "metadata": {},
   "outputs": [
    {
     "name": "stdout",
     "output_type": "stream",
     "text": [
      "Epoch 1/50\n",
      "1500/1500 [==============================] - 7s 5ms/step - loss: 0.4932 - accuracy: 0.8250 - val_loss: 0.4051 - val_accuracy: 0.8547\n",
      "Epoch 2/50\n",
      "1500/1500 [==============================] - 9s 6ms/step - loss: 0.3695 - accuracy: 0.8632 - val_loss: 0.3617 - val_accuracy: 0.8679\n",
      "Epoch 3/50\n",
      "1500/1500 [==============================] - 7s 5ms/step - loss: 0.3324 - accuracy: 0.8783 - val_loss: 0.3388 - val_accuracy: 0.8784\n",
      "Epoch 4/50\n",
      "1500/1500 [==============================] - 10s 7ms/step - loss: 0.3040 - accuracy: 0.8867 - val_loss: 0.3294 - val_accuracy: 0.8838\n",
      "Epoch 5/50\n",
      "1500/1500 [==============================] - 10s 7ms/step - loss: 0.2862 - accuracy: 0.8937 - val_loss: 0.3341 - val_accuracy: 0.8767\n",
      "Epoch 6/50\n",
      "1500/1500 [==============================] - 9s 6ms/step - loss: 0.2706 - accuracy: 0.8994 - val_loss: 0.3106 - val_accuracy: 0.8898\n",
      "Epoch 7/50\n",
      "1500/1500 [==============================] - 9s 6ms/step - loss: 0.2545 - accuracy: 0.9060 - val_loss: 0.3278 - val_accuracy: 0.8851\n",
      "Epoch 8/50\n",
      "1500/1500 [==============================] - 11s 7ms/step - loss: 0.2440 - accuracy: 0.9095 - val_loss: 0.3220 - val_accuracy: 0.8875\n",
      "Epoch 9/50\n",
      "1500/1500 [==============================] - 10s 6ms/step - loss: 0.2345 - accuracy: 0.9120 - val_loss: 0.3088 - val_accuracy: 0.8900\n",
      "Epoch 10/50\n",
      "1500/1500 [==============================] - 10s 7ms/step - loss: 0.2231 - accuracy: 0.9164 - val_loss: 0.3086 - val_accuracy: 0.8938\n",
      "Epoch 11/50\n",
      "1500/1500 [==============================] - 9s 6ms/step - loss: 0.2132 - accuracy: 0.9193 - val_loss: 0.3294 - val_accuracy: 0.8861\n",
      "Epoch 12/50\n",
      "1500/1500 [==============================] - 9s 6ms/step - loss: 0.2063 - accuracy: 0.9226 - val_loss: 0.3330 - val_accuracy: 0.8845\n",
      "Epoch 13/50\n",
      "1500/1500 [==============================] - 10s 7ms/step - loss: 0.1976 - accuracy: 0.9270 - val_loss: 0.3198 - val_accuracy: 0.8930\n",
      "Epoch 14/50\n",
      "1500/1500 [==============================] - 10s 6ms/step - loss: 0.1925 - accuracy: 0.9282 - val_loss: 0.3314 - val_accuracy: 0.8948\n",
      "Epoch 15/50\n",
      "1500/1500 [==============================] - 10s 7ms/step - loss: 0.1836 - accuracy: 0.9310 - val_loss: 0.3223 - val_accuracy: 0.8926\n"
     ]
    }
   ],
   "source": [
    "history = model_new.fit(train_images, train_labels, epochs=50, validation_split=0.2,callbacks=callback,verbose=1)"
   ]
  },
  {
   "cell_type": "code",
   "execution_count": 57,
   "id": "6842c497",
   "metadata": {},
   "outputs": [
    {
     "data": {
      "image/png": "[encoded data removed]",
      "text/plain": [
       "<Figure size 576x288 with 2 Axes>"
      ]
     },
     "metadata": {
      "needs_background": "light"
     },
     "output_type": "display_data"
    }
   ],
   "source": [
    "epochs = 15\n",
    "acc = history.history['accuracy']\n",
    "val_acc = history.history['val_accuracy']\n",
    "\n",
    "loss = history.history['loss']\n",
    "val_loss = history.history['val_loss']\n",
    "\n",
    "epochs_range = range(epochs)\n",
    "\n",
    "plt.figure(figsize=(8, 4))\n",
    "plt.subplot(1, 2, 1)\n",
    "plt.plot(epochs_range, acc, label='Training Accuracy')\n",
    "plt.plot(epochs_range, val_acc, label='Validation Accuracy')\n",
    "plt.legend(loc=0)\n",
    "plt.title('Training and Validation Accuracy')\n",
    "\n",
    "plt.subplot(1, 2, 2)\n",
    "plt.plot(epochs_range, loss, label='Training Loss')\n",
    "plt.plot(epochs_range, val_loss, label='Validation Loss')\n",
    "plt.legend(loc=0)\n",
    "plt.title('Training and Validation Loss')\n",
    "plt.show()"
   ]
  },
  {
   "cell_type": "code",
   "execution_count": 58,
   "id": "57fac20a",
   "metadata": {},
   "outputs": [
    {
     "name": "stdout",
     "output_type": "stream",
     "text": [
      "313/313 [==============================] - 1s 3ms/step - loss: 0.5753 - accuracy: 0.8890\n"
     ]
    },
    {
     "data": {
      "text/plain": [
       "[0.5753288865089417, 0.8889999985694885]"
      ]
     },
     "execution_count": 58,
     "metadata": {},
     "output_type": "execute_result"
    }
   ],
   "source": [
    "model.evaluate(test_images,test_labels)"
   ]
  },
  {
   "cell_type": "code",
   "execution_count": 59,
   "id": "80097f4a",
   "metadata": {},
   "outputs": [
    {
     "data": {
      "image/png": "[encoded data removed]",
      "text/plain": [
       "<Figure size 432x288 with 1 Axes>"
      ]
     },
     "metadata": {},
     "output_type": "display_data"
    }
   ],
   "source": [
    "plt.imshow(test_images[2000],cmap='gray_r')\n",
    "plt.title(class_names[test_labels[2000]])\n",
    "plt.xticks([])\n",
    "plt.yticks([])\n",
    "plt.show()"
   ]
  },
  {
   "cell_type": "code",
   "execution_count": 60,
   "id": "e44efa4f",
   "metadata": {},
   "outputs": [
    {
     "data": {
      "text/plain": [
       "array([[1.1026014e-21, 1.3032440e-26, 1.6401629e-25, 3.2223447e-29,\n",
       "        1.2935704e-19, 2.7517119e-28, 2.4960474e-20, 2.6586739e-18,\n",
       "        1.0000000e+00, 4.1046617e-25]], dtype=float32)"
      ]
     },
     "execution_count": 60,
     "metadata": {},
     "output_type": "execute_result"
    }
   ],
   "source": [
    "model.predict(test_images[2000].reshape(1,28,28))"
   ]
  },
  {
   "cell_type": "code",
   "execution_count": 61,
   "id": "eb226f2c",
   "metadata": {},
   "outputs": [
    {
     "data": {
      "text/plain": [
       "array([[0., 0., 0., 0., 0., 0., 0., 0., 1., 0.]], dtype=float32)"
      ]
     },
     "execution_count": 61,
     "metadata": {},
     "output_type": "execute_result"
    }
   ],
   "source": [
    "model.predict(test_images[2000].reshape(1,28,28)).round(3)"
   ]
  },
  {
   "cell_type": "code",
   "execution_count": 62,
   "id": "ef941c5b",
   "metadata": {},
   "outputs": [
    {
     "data": {
      "text/plain": [
       "8"
      ]
     },
     "execution_count": 62,
     "metadata": {},
     "output_type": "execute_result"
    }
   ],
   "source": [
    "np.argmax(model.predict(test_images[2000].reshape(1,28,28)).round(3))"
   ]
  },
  {
   "cell_type": "code",
   "execution_count": 63,
   "id": "c2e982d4",
   "metadata": {},
   "outputs": [
    {
     "data": {
      "text/plain": [
       "'Bag'"
      ]
     },
     "execution_count": 63,
     "metadata": {},
     "output_type": "execute_result"
    }
   ],
   "source": [
    "class_names[np.argmax(model.predict(test_images[2000].reshape(1,28,28)),axis=1)[0]]"
   ]
  },
  {
   "cell_type": "code",
   "execution_count": null,
   "id": "19ef0d1d",
   "metadata": {},
   "outputs": [],
   "source": []
  }
 ],
 "metadata": {
  "kernelspec": {
   "display_name": "Python 3",
   "language": "python",
   "name": "python3"
  },
  "language_info": {
   "codemirror_mode": {
    "name": "ipython",
    "version": 3
   },
   "file_extension": ".py",
   "mimetype": "text/x-python",
   "name": "python",
   "nbconvert_exporter": "python",
   "pygments_lexer": "ipython3",
   "version": "3.6.13"
  }
 },
 "nbformat": 4,
 "nbformat_minor": 5
}
