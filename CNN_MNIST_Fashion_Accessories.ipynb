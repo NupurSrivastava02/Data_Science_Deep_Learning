{
 "cells": [
  {
   "cell_type": "code",
   "execution_count": 1,
   "id": "2b1b9799",
   "metadata": {},
   "outputs": [],
   "source": [
    "import tensorflow as tf\n",
    "import numpy as np\n",
    "import pandas as pd\n",
    "import seaborn as sns\n",
    "import matplotlib.pyplot as plt\n",
    "from tensorflow import keras\n",
    "from tensorflow.keras import datasets, layers, models\n",
    "from keras.datasets import fashion_mnist"
   ]
  },
  {
   "cell_type": "code",
   "execution_count": 2,
   "id": "eeb71caa",
   "metadata": {},
   "outputs": [],
   "source": [
    "(train_images, train_labels), (test_images, test_labels) = fashion_mnist.load_data()"
   ]
  },
  {
   "cell_type": "code",
   "execution_count": 3,
   "id": "206206a2",
   "metadata": {},
   "outputs": [
    {
     "data": {
      "text/plain": [
       "(60000, 28, 28)"
      ]
     },
     "execution_count": 3,
     "metadata": {},
     "output_type": "execute_result"
    }
   ],
   "source": [
    "train_images.shape"
   ]
  },
  {
   "cell_type": "code",
   "execution_count": 4,
   "id": "9f39b0ff",
   "metadata": {},
   "outputs": [
    {
     "data": {
      "text/plain": [
       "(10000, 28, 28)"
      ]
     },
     "execution_count": 4,
     "metadata": {},
     "output_type": "execute_result"
    }
   ],
   "source": [
    "test_images.shape"
   ]
  },
  {
   "cell_type": "code",
   "execution_count": 5,
   "id": "777d3380",
   "metadata": {},
   "outputs": [
    {
     "data": {
      "text/plain": [
       "array([[  0,   0,   0,   0,   0,   0,   0,   0,   0,   0,   0,   0,   0,\n",
       "          0,   0,   0,   0,   0,   0,   0,   0,   0,   0,   0,   0,   0,\n",
       "          0,   0],\n",
       "       [  0,   0,   0,   0,   0,   0,   0,   0,   0,   0,   0,   0,   0,\n",
       "          0,   0,   0,   0,   0,   0,   0,   0,   0,   0,   0,   0,   0,\n",
       "          0,   0],\n",
       "       [  0,   0,   0,   0,   0,   0,   0,   0,   0,   0,   0,   0,   0,\n",
       "          0,   0,   0,   0,   0,   0,   0,   0,   0,   0,   0,   0,   0,\n",
       "          0,   0],\n",
       "       [  0,   0,   0,   0,   0,   0,   0,   0,   0,   0,   0,   0,   1,\n",
       "          0,   0,  13,  73,   0,   0,   1,   4,   0,   0,   0,   0,   1,\n",
       "          1,   0],\n",
       "       [  0,   0,   0,   0,   0,   0,   0,   0,   0,   0,   0,   0,   3,\n",
       "          0,  36, 136, 127,  62,  54,   0,   0,   0,   1,   3,   4,   0,\n",
       "          0,   3],\n",
       "       [  0,   0,   0,   0,   0,   0,   0,   0,   0,   0,   0,   0,   6,\n",
       "          0, 102, 204, 176, 134, 144, 123,  23,   0,   0,   0,   0,  12,\n",
       "         10,   0],\n",
       "       [  0,   0,   0,   0,   0,   0,   0,   0,   0,   0,   0,   0,   0,\n",
       "          0, 155, 236, 207, 178, 107, 156, 161, 109,  64,  23,  77, 130,\n",
       "         72,  15],\n",
       "       [  0,   0,   0,   0,   0,   0,   0,   0,   0,   0,   0,   1,   0,\n",
       "         69, 207, 223, 218, 216, 216, 163, 127, 121, 122, 146, 141,  88,\n",
       "        172,  66],\n",
       "       [  0,   0,   0,   0,   0,   0,   0,   0,   0,   1,   1,   1,   0,\n",
       "        200, 232, 232, 233, 229, 223, 223, 215, 213, 164, 127, 123, 196,\n",
       "        229,   0],\n",
       "       [  0,   0,   0,   0,   0,   0,   0,   0,   0,   0,   0,   0,   0,\n",
       "        183, 225, 216, 223, 228, 235, 227, 224, 222, 224, 221, 223, 245,\n",
       "        173,   0],\n",
       "       [  0,   0,   0,   0,   0,   0,   0,   0,   0,   0,   0,   0,   0,\n",
       "        193, 228, 218, 213, 198, 180, 212, 210, 211, 213, 223, 220, 243,\n",
       "        202,   0],\n",
       "       [  0,   0,   0,   0,   0,   0,   0,   0,   0,   1,   3,   0,  12,\n",
       "        219, 220, 212, 218, 192, 169, 227, 208, 218, 224, 212, 226, 197,\n",
       "        209,  52],\n",
       "       [  0,   0,   0,   0,   0,   0,   0,   0,   0,   0,   6,   0,  99,\n",
       "        244, 222, 220, 218, 203, 198, 221, 215, 213, 222, 220, 245, 119,\n",
       "        167,  56],\n",
       "       [  0,   0,   0,   0,   0,   0,   0,   0,   0,   4,   0,   0,  55,\n",
       "        236, 228, 230, 228, 240, 232, 213, 218, 223, 234, 217, 217, 209,\n",
       "         92,   0],\n",
       "       [  0,   0,   1,   4,   6,   7,   2,   0,   0,   0,   0,   0, 237,\n",
       "        226, 217, 223, 222, 219, 222, 221, 216, 223, 229, 215, 218, 255,\n",
       "         77,   0],\n",
       "       [  0,   3,   0,   0,   0,   0,   0,   0,   0,  62, 145, 204, 228,\n",
       "        207, 213, 221, 218, 208, 211, 218, 224, 223, 219, 215, 224, 244,\n",
       "        159,   0],\n",
       "       [  0,   0,   0,   0,  18,  44,  82, 107, 189, 228, 220, 222, 217,\n",
       "        226, 200, 205, 211, 230, 224, 234, 176, 188, 250, 248, 233, 238,\n",
       "        215,   0],\n",
       "       [  0,  57, 187, 208, 224, 221, 224, 208, 204, 214, 208, 209, 200,\n",
       "        159, 245, 193, 206, 223, 255, 255, 221, 234, 221, 211, 220, 232,\n",
       "        246,   0],\n",
       "       [  3, 202, 228, 224, 221, 211, 211, 214, 205, 205, 205, 220, 240,\n",
       "         80, 150, 255, 229, 221, 188, 154, 191, 210, 204, 209, 222, 228,\n",
       "        225,   0],\n",
       "       [ 98, 233, 198, 210, 222, 229, 229, 234, 249, 220, 194, 215, 217,\n",
       "        241,  65,  73, 106, 117, 168, 219, 221, 215, 217, 223, 223, 224,\n",
       "        229,  29],\n",
       "       [ 75, 204, 212, 204, 193, 205, 211, 225, 216, 185, 197, 206, 198,\n",
       "        213, 240, 195, 227, 245, 239, 223, 218, 212, 209, 222, 220, 221,\n",
       "        230,  67],\n",
       "       [ 48, 203, 183, 194, 213, 197, 185, 190, 194, 192, 202, 214, 219,\n",
       "        221, 220, 236, 225, 216, 199, 206, 186, 181, 177, 172, 181, 205,\n",
       "        206, 115],\n",
       "       [  0, 122, 219, 193, 179, 171, 183, 196, 204, 210, 213, 207, 211,\n",
       "        210, 200, 196, 194, 191, 195, 191, 198, 192, 176, 156, 167, 177,\n",
       "        210,  92],\n",
       "       [  0,   0,  74, 189, 212, 191, 175, 172, 175, 181, 185, 188, 189,\n",
       "        188, 193, 198, 204, 209, 210, 210, 211, 188, 188, 194, 192, 216,\n",
       "        170,   0],\n",
       "       [  2,   0,   0,   0,  66, 200, 222, 237, 239, 242, 246, 243, 244,\n",
       "        221, 220, 193, 191, 179, 182, 182, 181, 176, 166, 168,  99,  58,\n",
       "          0,   0],\n",
       "       [  0,   0,   0,   0,   0,   0,   0,  40,  61,  44,  72,  41,  35,\n",
       "          0,   0,   0,   0,   0,   0,   0,   0,   0,   0,   0,   0,   0,\n",
       "          0,   0],\n",
       "       [  0,   0,   0,   0,   0,   0,   0,   0,   0,   0,   0,   0,   0,\n",
       "          0,   0,   0,   0,   0,   0,   0,   0,   0,   0,   0,   0,   0,\n",
       "          0,   0],\n",
       "       [  0,   0,   0,   0,   0,   0,   0,   0,   0,   0,   0,   0,   0,\n",
       "          0,   0,   0,   0,   0,   0,   0,   0,   0,   0,   0,   0,   0,\n",
       "          0,   0]], dtype=uint8)"
      ]
     },
     "execution_count": 5,
     "metadata": {},
     "output_type": "execute_result"
    }
   ],
   "source": [
    "train_images[0]"
   ]
  },
  {
   "cell_type": "code",
   "execution_count": 6,
   "id": "b99a4fc3",
   "metadata": {},
   "outputs": [
    {
     "data": {
      "text/plain": [
       "9"
      ]
     },
     "execution_count": 6,
     "metadata": {},
     "output_type": "execute_result"
    }
   ],
   "source": [
    "train_labels[0]"
   ]
  },
  {
   "cell_type": "code",
   "execution_count": 7,
   "id": "0443107d",
   "metadata": {},
   "outputs": [
    {
     "data": {
      "text/plain": [
       "8"
      ]
     },
     "execution_count": 7,
     "metadata": {},
     "output_type": "execute_result"
    }
   ],
   "source": [
    "train_labels[100]"
   ]
  },
  {
   "cell_type": "code",
   "execution_count": 8,
   "id": "d34cebd0",
   "metadata": {},
   "outputs": [
    {
     "data": {
      "image/png": "[encoded data removed]",
      "text/plain": [
       "<Figure size 432x288 with 1 Axes>"
      ]
     },
     "metadata": {},
     "output_type": "display_data"
    }
   ],
   "source": [
    "plt.imshow(train_images[0],cmap='gray_r')\n",
    "plt.xticks([])\n",
    "plt.yticks([])\n",
    "plt.show()"
   ]
  },
  {
   "cell_type": "code",
   "execution_count": 9,
   "id": "4619e86d",
   "metadata": {},
   "outputs": [
    {
     "data": {
      "text/plain": [
       "9"
      ]
     },
     "execution_count": 9,
     "metadata": {},
     "output_type": "execute_result"
    }
   ],
   "source": [
    "train_labels[0]"
   ]
  },
  {
   "cell_type": "code",
   "execution_count": 10,
   "id": "b9a60c4a",
   "metadata": {},
   "outputs": [],
   "source": [
    "class_names = ['T-shirt/top', 'Trouser', 'Pullover', 'Dress', 'Coat',\n",
    "               'Sandal', 'Shirt', 'Sneaker', 'Bag', 'Ankle boot']"
   ]
  },
  {
   "cell_type": "code",
   "execution_count": 11,
   "id": "8e3192e8",
   "metadata": {},
   "outputs": [
    {
     "data": {
      "text/plain": [
       "['T-shirt/top',\n",
       " 'Trouser',\n",
       " 'Pullover',\n",
       " 'Dress',\n",
       " 'Coat',\n",
       " 'Sandal',\n",
       " 'Shirt',\n",
       " 'Sneaker',\n",
       " 'Bag',\n",
       " 'Ankle boot']"
      ]
     },
     "execution_count": 11,
     "metadata": {},
     "output_type": "execute_result"
    }
   ],
   "source": [
    "class_names"
   ]
  },
  {
   "cell_type": "code",
   "execution_count": 12,
   "id": "7789a99f",
   "metadata": {},
   "outputs": [
    {
     "data": {
      "text/plain": [
       "'T-shirt/top'"
      ]
     },
     "execution_count": 12,
     "metadata": {},
     "output_type": "execute_result"
    }
   ],
   "source": [
    "class_names[0]"
   ]
  },
  {
   "cell_type": "code",
   "execution_count": 13,
   "id": "a9330fdb",
   "metadata": {},
   "outputs": [
    {
     "data": {
      "text/plain": [
       "'Ankle boot'"
      ]
     },
     "execution_count": 13,
     "metadata": {},
     "output_type": "execute_result"
    }
   ],
   "source": [
    "class_names[train_labels[0]]"
   ]
  },
  {
   "cell_type": "code",
   "execution_count": 14,
   "id": "96e635b3",
   "metadata": {},
   "outputs": [
    {
     "data": {
      "image/png": "[encoded data removed]",
      "text/plain": [
       "<Figure size 432x288 with 1 Axes>"
      ]
     },
     "metadata": {},
     "output_type": "display_data"
    }
   ],
   "source": [
    "plt.imshow(train_images[0],cmap='gray_r')\n",
    "plt.title(train_labels[0])\n",
    "plt.xticks([])\n",
    "plt.yticks([])\n",
    "plt.show()"
   ]
  },
  {
   "cell_type": "code",
   "execution_count": 15,
   "id": "53240e90",
   "metadata": {},
   "outputs": [
    {
     "data": {
      "image/png": "[encoded data removed]",
      "text/plain": [
       "<Figure size 432x288 with 1 Axes>"
      ]
     },
     "metadata": {},
     "output_type": "display_data"
    }
   ],
   "source": [
    "plt.imshow(train_images[0],cmap='gray_r')\n",
    "plt.title(class_names[train_labels[0]])\n",
    "plt.xticks([])\n",
    "plt.yticks([])\n",
    "plt.show()"
   ]
  },
  {
   "cell_type": "code",
   "execution_count": 16,
   "id": "1912c97b",
   "metadata": {},
   "outputs": [
    {
     "data": {
      "image/png": "[encoded data removed]",
      "text/plain": [
       "<Figure size 432x288 with 1 Axes>"
      ]
     },
     "metadata": {},
     "output_type": "display_data"
    }
   ],
   "source": [
    "plt.imshow(train_images[25],cmap='gray_r')\n",
    "plt.title(class_names[train_labels[25]])\n",
    "plt.xticks([])\n",
    "plt.yticks([])\n",
    "plt.show()"
   ]
  },
  {
   "cell_type": "code",
   "execution_count": 17,
   "id": "e9b698d6",
   "metadata": {},
   "outputs": [
    {
     "data": {
      "image/png": "[encoded data removed]",
      "text/plain": [
       "<Figure size 720x720 with 25 Axes>"
      ]
     },
     "metadata": {},
     "output_type": "display_data"
    }
   ],
   "source": [
    "plt.figure(figsize=(10,10))\n",
    "for i in range(25):\n",
    "    plt.subplot(5,5,i+1)\n",
    "    plt.xticks([])\n",
    "    plt.yticks([])\n",
    "    plt.grid(False)\n",
    "    plt.imshow(train_images[i], cmap=plt.cm.binary)\n",
    "    plt.xlabel(class_names[train_labels[i]])\n",
    "plt.tight_layout()\n",
    "plt.show()"
   ]
  },
  {
   "cell_type": "code",
   "execution_count": 18,
   "id": "859e78e2",
   "metadata": {},
   "outputs": [],
   "source": [
    "#CNN\n",
    "# (number_of_images,width,height,channel)\n",
    "#For B/W image, channel=1"
   ]
  },
  {
   "cell_type": "code",
   "execution_count": 19,
   "id": "5ee70fd4",
   "metadata": {},
   "outputs": [
    {
     "data": {
      "text/plain": [
       "(60000, 28, 28)"
      ]
     },
     "execution_count": 19,
     "metadata": {},
     "output_type": "execute_result"
    }
   ],
   "source": [
    "train_images.shape"
   ]
  },
  {
   "cell_type": "code",
   "execution_count": 20,
   "id": "84692076",
   "metadata": {},
   "outputs": [
    {
     "data": {
      "text/plain": [
       "60000"
      ]
     },
     "execution_count": 20,
     "metadata": {},
     "output_type": "execute_result"
    }
   ],
   "source": [
    "train_images.shape[0]"
   ]
  },
  {
   "cell_type": "code",
   "execution_count": 21,
   "id": "e724269d",
   "metadata": {},
   "outputs": [],
   "source": [
    "train_images = train_images.reshape(train_images.shape[0],28,28,1)"
   ]
  },
  {
   "cell_type": "code",
   "execution_count": 22,
   "id": "f1c84f0f",
   "metadata": {},
   "outputs": [
    {
     "data": {
      "text/plain": [
       "(60000, 28, 28, 1)"
      ]
     },
     "execution_count": 22,
     "metadata": {},
     "output_type": "execute_result"
    }
   ],
   "source": [
    "train_images.shape"
   ]
  },
  {
   "cell_type": "code",
   "execution_count": 23,
   "id": "423642a3",
   "metadata": {},
   "outputs": [
    {
     "data": {
      "text/plain": [
       "(10000, 28, 28)"
      ]
     },
     "execution_count": 23,
     "metadata": {},
     "output_type": "execute_result"
    }
   ],
   "source": [
    "test_images.shape"
   ]
  },
  {
   "cell_type": "code",
   "execution_count": 24,
   "id": "80d99a65",
   "metadata": {},
   "outputs": [],
   "source": [
    "test_images = test_images.reshape(test_images.shape[0],28,28,1)"
   ]
  },
  {
   "cell_type": "code",
   "execution_count": 25,
   "id": "9e5575eb",
   "metadata": {},
   "outputs": [
    {
     "data": {
      "text/plain": [
       "(28, 28, 1)"
      ]
     },
     "execution_count": 25,
     "metadata": {},
     "output_type": "execute_result"
    }
   ],
   "source": [
    "train_images[0].shape"
   ]
  },
  {
   "cell_type": "code",
   "execution_count": 26,
   "id": "94003fce",
   "metadata": {},
   "outputs": [
    {
     "data": {
      "image/png": "[encoded data removed]",
      "text/plain": [
       "<Figure size 432x288 with 1 Axes>"
      ]
     },
     "metadata": {
      "needs_background": "light"
     },
     "output_type": "display_data"
    }
   ],
   "source": [
    "plt.imshow(train_images[0],cmap='gray_r')\n",
    "plt.show()"
   ]
  },
  {
   "cell_type": "code",
   "execution_count": 27,
   "id": "008bc6c7",
   "metadata": {},
   "outputs": [],
   "source": [
    "#casting"
   ]
  },
  {
   "cell_type": "code",
   "execution_count": 28,
   "id": "6657cff8",
   "metadata": {},
   "outputs": [],
   "source": [
    "train_images = train_images.astype('float32')"
   ]
  },
  {
   "cell_type": "code",
   "execution_count": 29,
   "id": "1b2ccc4b",
   "metadata": {},
   "outputs": [],
   "source": [
    "test_images = test_images.astype('float32')"
   ]
  },
  {
   "cell_type": "code",
   "execution_count": 30,
   "id": "88dcd547",
   "metadata": {},
   "outputs": [
    {
     "data": {
      "text/plain": [
       "array([[[  0.],\n",
       "        [  0.],\n",
       "        [  0.],\n",
       "        [  0.],\n",
       "        [  0.],\n",
       "        [  0.],\n",
       "        [  0.],\n",
       "        [  0.],\n",
       "        [  0.],\n",
       "        [  0.],\n",
       "        [  0.],\n",
       "        [  0.],\n",
       "        [  0.],\n",
       "        [  0.],\n",
       "        [  0.],\n",
       "        [  0.],\n",
       "        [  0.],\n",
       "        [  0.],\n",
       "        [  0.],\n",
       "        [  0.],\n",
       "        [  0.],\n",
       "        [  0.],\n",
       "        [  0.],\n",
       "        [  0.],\n",
       "        [  0.],\n",
       "        [  0.],\n",
       "        [  0.],\n",
       "        [  0.]],\n",
       "\n",
       "       [[  0.],\n",
       "        [  0.],\n",
       "        [  0.],\n",
       "        [  0.],\n",
       "        [  0.],\n",
       "        [  0.],\n",
       "        [  0.],\n",
       "        [  0.],\n",
       "        [  0.],\n",
       "        [  0.],\n",
       "        [  0.],\n",
       "        [  0.],\n",
       "        [  0.],\n",
       "        [  0.],\n",
       "        [  0.],\n",
       "        [  0.],\n",
       "        [  0.],\n",
       "        [  0.],\n",
       "        [  0.],\n",
       "        [  0.],\n",
       "        [  0.],\n",
       "        [  0.],\n",
       "        [  0.],\n",
       "        [  0.],\n",
       "        [  0.],\n",
       "        [  0.],\n",
       "        [  0.],\n",
       "        [  0.]],\n",
       "\n",
       "       [[  0.],\n",
       "        [  0.],\n",
       "        [  0.],\n",
       "        [  0.],\n",
       "        [  0.],\n",
       "        [  0.],\n",
       "        [  0.],\n",
       "        [  0.],\n",
       "        [  0.],\n",
       "        [  0.],\n",
       "        [  0.],\n",
       "        [  0.],\n",
       "        [  0.],\n",
       "        [  0.],\n",
       "        [  0.],\n",
       "        [  0.],\n",
       "        [  0.],\n",
       "        [  0.],\n",
       "        [  0.],\n",
       "        [  0.],\n",
       "        [  0.],\n",
       "        [  0.],\n",
       "        [  0.],\n",
       "        [  0.],\n",
       "        [  0.],\n",
       "        [  0.],\n",
       "        [  0.],\n",
       "        [  0.]],\n",
       "\n",
       "       [[  0.],\n",
       "        [  0.],\n",
       "        [  0.],\n",
       "        [  0.],\n",
       "        [  0.],\n",
       "        [  0.],\n",
       "        [  0.],\n",
       "        [  0.],\n",
       "        [  0.],\n",
       "        [  0.],\n",
       "        [  0.],\n",
       "        [  0.],\n",
       "        [  1.],\n",
       "        [  0.],\n",
       "        [  0.],\n",
       "        [ 13.],\n",
       "        [ 73.],\n",
       "        [  0.],\n",
       "        [  0.],\n",
       "        [  1.],\n",
       "        [  4.],\n",
       "        [  0.],\n",
       "        [  0.],\n",
       "        [  0.],\n",
       "        [  0.],\n",
       "        [  1.],\n",
       "        [  1.],\n",
       "        [  0.]],\n",
       "\n",
       "       [[  0.],\n",
       "        [  0.],\n",
       "        [  0.],\n",
       "        [  0.],\n",
       "        [  0.],\n",
       "        [  0.],\n",
       "        [  0.],\n",
       "        [  0.],\n",
       "        [  0.],\n",
       "        [  0.],\n",
       "        [  0.],\n",
       "        [  0.],\n",
       "        [  3.],\n",
       "        [  0.],\n",
       "        [ 36.],\n",
       "        [136.],\n",
       "        [127.],\n",
       "        [ 62.],\n",
       "        [ 54.],\n",
       "        [  0.],\n",
       "        [  0.],\n",
       "        [  0.],\n",
       "        [  1.],\n",
       "        [  3.],\n",
       "        [  4.],\n",
       "        [  0.],\n",
       "        [  0.],\n",
       "        [  3.]],\n",
       "\n",
       "       [[  0.],\n",
       "        [  0.],\n",
       "        [  0.],\n",
       "        [  0.],\n",
       "        [  0.],\n",
       "        [  0.],\n",
       "        [  0.],\n",
       "        [  0.],\n",
       "        [  0.],\n",
       "        [  0.],\n",
       "        [  0.],\n",
       "        [  0.],\n",
       "        [  6.],\n",
       "        [  0.],\n",
       "        [102.],\n",
       "        [204.],\n",
       "        [176.],\n",
       "        [134.],\n",
       "        [144.],\n",
       "        [123.],\n",
       "        [ 23.],\n",
       "        [  0.],\n",
       "        [  0.],\n",
       "        [  0.],\n",
       "        [  0.],\n",
       "        [ 12.],\n",
       "        [ 10.],\n",
       "        [  0.]],\n",
       "\n",
       "       [[  0.],\n",
       "        [  0.],\n",
       "        [  0.],\n",
       "        [  0.],\n",
       "        [  0.],\n",
       "        [  0.],\n",
       "        [  0.],\n",
       "        [  0.],\n",
       "        [  0.],\n",
       "        [  0.],\n",
       "        [  0.],\n",
       "        [  0.],\n",
       "        [  0.],\n",
       "        [  0.],\n",
       "        [155.],\n",
       "        [236.],\n",
       "        [207.],\n",
       "        [178.],\n",
       "        [107.],\n",
       "        [156.],\n",
       "        [161.],\n",
       "        [109.],\n",
       "        [ 64.],\n",
       "        [ 23.],\n",
       "        [ 77.],\n",
       "        [130.],\n",
       "        [ 72.],\n",
       "        [ 15.]],\n",
       "\n",
       "       [[  0.],\n",
       "        [  0.],\n",
       "        [  0.],\n",
       "        [  0.],\n",
       "        [  0.],\n",
       "        [  0.],\n",
       "        [  0.],\n",
       "        [  0.],\n",
       "        [  0.],\n",
       "        [  0.],\n",
       "        [  0.],\n",
       "        [  1.],\n",
       "        [  0.],\n",
       "        [ 69.],\n",
       "        [207.],\n",
       "        [223.],\n",
       "        [218.],\n",
       "        [216.],\n",
       "        [216.],\n",
       "        [163.],\n",
       "        [127.],\n",
       "        [121.],\n",
       "        [122.],\n",
       "        [146.],\n",
       "        [141.],\n",
       "        [ 88.],\n",
       "        [172.],\n",
       "        [ 66.]],\n",
       "\n",
       "       [[  0.],\n",
       "        [  0.],\n",
       "        [  0.],\n",
       "        [  0.],\n",
       "        [  0.],\n",
       "        [  0.],\n",
       "        [  0.],\n",
       "        [  0.],\n",
       "        [  0.],\n",
       "        [  1.],\n",
       "        [  1.],\n",
       "        [  1.],\n",
       "        [  0.],\n",
       "        [200.],\n",
       "        [232.],\n",
       "        [232.],\n",
       "        [233.],\n",
       "        [229.],\n",
       "        [223.],\n",
       "        [223.],\n",
       "        [215.],\n",
       "        [213.],\n",
       "        [164.],\n",
       "        [127.],\n",
       "        [123.],\n",
       "        [196.],\n",
       "        [229.],\n",
       "        [  0.]],\n",
       "\n",
       "       [[  0.],\n",
       "        [  0.],\n",
       "        [  0.],\n",
       "        [  0.],\n",
       "        [  0.],\n",
       "        [  0.],\n",
       "        [  0.],\n",
       "        [  0.],\n",
       "        [  0.],\n",
       "        [  0.],\n",
       "        [  0.],\n",
       "        [  0.],\n",
       "        [  0.],\n",
       "        [183.],\n",
       "        [225.],\n",
       "        [216.],\n",
       "        [223.],\n",
       "        [228.],\n",
       "        [235.],\n",
       "        [227.],\n",
       "        [224.],\n",
       "        [222.],\n",
       "        [224.],\n",
       "        [221.],\n",
       "        [223.],\n",
       "        [245.],\n",
       "        [173.],\n",
       "        [  0.]],\n",
       "\n",
       "       [[  0.],\n",
       "        [  0.],\n",
       "        [  0.],\n",
       "        [  0.],\n",
       "        [  0.],\n",
       "        [  0.],\n",
       "        [  0.],\n",
       "        [  0.],\n",
       "        [  0.],\n",
       "        [  0.],\n",
       "        [  0.],\n",
       "        [  0.],\n",
       "        [  0.],\n",
       "        [193.],\n",
       "        [228.],\n",
       "        [218.],\n",
       "        [213.],\n",
       "        [198.],\n",
       "        [180.],\n",
       "        [212.],\n",
       "        [210.],\n",
       "        [211.],\n",
       "        [213.],\n",
       "        [223.],\n",
       "        [220.],\n",
       "        [243.],\n",
       "        [202.],\n",
       "        [  0.]],\n",
       "\n",
       "       [[  0.],\n",
       "        [  0.],\n",
       "        [  0.],\n",
       "        [  0.],\n",
       "        [  0.],\n",
       "        [  0.],\n",
       "        [  0.],\n",
       "        [  0.],\n",
       "        [  0.],\n",
       "        [  1.],\n",
       "        [  3.],\n",
       "        [  0.],\n",
       "        [ 12.],\n",
       "        [219.],\n",
       "        [220.],\n",
       "        [212.],\n",
       "        [218.],\n",
       "        [192.],\n",
       "        [169.],\n",
       "        [227.],\n",
       "        [208.],\n",
       "        [218.],\n",
       "        [224.],\n",
       "        [212.],\n",
       "        [226.],\n",
       "        [197.],\n",
       "        [209.],\n",
       "        [ 52.]],\n",
       "\n",
       "       [[  0.],\n",
       "        [  0.],\n",
       "        [  0.],\n",
       "        [  0.],\n",
       "        [  0.],\n",
       "        [  0.],\n",
       "        [  0.],\n",
       "        [  0.],\n",
       "        [  0.],\n",
       "        [  0.],\n",
       "        [  6.],\n",
       "        [  0.],\n",
       "        [ 99.],\n",
       "        [244.],\n",
       "        [222.],\n",
       "        [220.],\n",
       "        [218.],\n",
       "        [203.],\n",
       "        [198.],\n",
       "        [221.],\n",
       "        [215.],\n",
       "        [213.],\n",
       "        [222.],\n",
       "        [220.],\n",
       "        [245.],\n",
       "        [119.],\n",
       "        [167.],\n",
       "        [ 56.]],\n",
       "\n",
       "       [[  0.],\n",
       "        [  0.],\n",
       "        [  0.],\n",
       "        [  0.],\n",
       "        [  0.],\n",
       "        [  0.],\n",
       "        [  0.],\n",
       "        [  0.],\n",
       "        [  0.],\n",
       "        [  4.],\n",
       "        [  0.],\n",
       "        [  0.],\n",
       "        [ 55.],\n",
       "        [236.],\n",
       "        [228.],\n",
       "        [230.],\n",
       "        [228.],\n",
       "        [240.],\n",
       "        [232.],\n",
       "        [213.],\n",
       "        [218.],\n",
       "        [223.],\n",
       "        [234.],\n",
       "        [217.],\n",
       "        [217.],\n",
       "        [209.],\n",
       "        [ 92.],\n",
       "        [  0.]],\n",
       "\n",
       "       [[  0.],\n",
       "        [  0.],\n",
       "        [  1.],\n",
       "        [  4.],\n",
       "        [  6.],\n",
       "        [  7.],\n",
       "        [  2.],\n",
       "        [  0.],\n",
       "        [  0.],\n",
       "        [  0.],\n",
       "        [  0.],\n",
       "        [  0.],\n",
       "        [237.],\n",
       "        [226.],\n",
       "        [217.],\n",
       "        [223.],\n",
       "        [222.],\n",
       "        [219.],\n",
       "        [222.],\n",
       "        [221.],\n",
       "        [216.],\n",
       "        [223.],\n",
       "        [229.],\n",
       "        [215.],\n",
       "        [218.],\n",
       "        [255.],\n",
       "        [ 77.],\n",
       "        [  0.]],\n",
       "\n",
       "       [[  0.],\n",
       "        [  3.],\n",
       "        [  0.],\n",
       "        [  0.],\n",
       "        [  0.],\n",
       "        [  0.],\n",
       "        [  0.],\n",
       "        [  0.],\n",
       "        [  0.],\n",
       "        [ 62.],\n",
       "        [145.],\n",
       "        [204.],\n",
       "        [228.],\n",
       "        [207.],\n",
       "        [213.],\n",
       "        [221.],\n",
       "        [218.],\n",
       "        [208.],\n",
       "        [211.],\n",
       "        [218.],\n",
       "        [224.],\n",
       "        [223.],\n",
       "        [219.],\n",
       "        [215.],\n",
       "        [224.],\n",
       "        [244.],\n",
       "        [159.],\n",
       "        [  0.]],\n",
       "\n",
       "       [[  0.],\n",
       "        [  0.],\n",
       "        [  0.],\n",
       "        [  0.],\n",
       "        [ 18.],\n",
       "        [ 44.],\n",
       "        [ 82.],\n",
       "        [107.],\n",
       "        [189.],\n",
       "        [228.],\n",
       "        [220.],\n",
       "        [222.],\n",
       "        [217.],\n",
       "        [226.],\n",
       "        [200.],\n",
       "        [205.],\n",
       "        [211.],\n",
       "        [230.],\n",
       "        [224.],\n",
       "        [234.],\n",
       "        [176.],\n",
       "        [188.],\n",
       "        [250.],\n",
       "        [248.],\n",
       "        [233.],\n",
       "        [238.],\n",
       "        [215.],\n",
       "        [  0.]],\n",
       "\n",
       "       [[  0.],\n",
       "        [ 57.],\n",
       "        [187.],\n",
       "        [208.],\n",
       "        [224.],\n",
       "        [221.],\n",
       "        [224.],\n",
       "        [208.],\n",
       "        [204.],\n",
       "        [214.],\n",
       "        [208.],\n",
       "        [209.],\n",
       "        [200.],\n",
       "        [159.],\n",
       "        [245.],\n",
       "        [193.],\n",
       "        [206.],\n",
       "        [223.],\n",
       "        [255.],\n",
       "        [255.],\n",
       "        [221.],\n",
       "        [234.],\n",
       "        [221.],\n",
       "        [211.],\n",
       "        [220.],\n",
       "        [232.],\n",
       "        [246.],\n",
       "        [  0.]],\n",
       "\n",
       "       [[  3.],\n",
       "        [202.],\n",
       "        [228.],\n",
       "        [224.],\n",
       "        [221.],\n",
       "        [211.],\n",
       "        [211.],\n",
       "        [214.],\n",
       "        [205.],\n",
       "        [205.],\n",
       "        [205.],\n",
       "        [220.],\n",
       "        [240.],\n",
       "        [ 80.],\n",
       "        [150.],\n",
       "        [255.],\n",
       "        [229.],\n",
       "        [221.],\n",
       "        [188.],\n",
       "        [154.],\n",
       "        [191.],\n",
       "        [210.],\n",
       "        [204.],\n",
       "        [209.],\n",
       "        [222.],\n",
       "        [228.],\n",
       "        [225.],\n",
       "        [  0.]],\n",
       "\n",
       "       [[ 98.],\n",
       "        [233.],\n",
       "        [198.],\n",
       "        [210.],\n",
       "        [222.],\n",
       "        [229.],\n",
       "        [229.],\n",
       "        [234.],\n",
       "        [249.],\n",
       "        [220.],\n",
       "        [194.],\n",
       "        [215.],\n",
       "        [217.],\n",
       "        [241.],\n",
       "        [ 65.],\n",
       "        [ 73.],\n",
       "        [106.],\n",
       "        [117.],\n",
       "        [168.],\n",
       "        [219.],\n",
       "        [221.],\n",
       "        [215.],\n",
       "        [217.],\n",
       "        [223.],\n",
       "        [223.],\n",
       "        [224.],\n",
       "        [229.],\n",
       "        [ 29.]],\n",
       "\n",
       "       [[ 75.],\n",
       "        [204.],\n",
       "        [212.],\n",
       "        [204.],\n",
       "        [193.],\n",
       "        [205.],\n",
       "        [211.],\n",
       "        [225.],\n",
       "        [216.],\n",
       "        [185.],\n",
       "        [197.],\n",
       "        [206.],\n",
       "        [198.],\n",
       "        [213.],\n",
       "        [240.],\n",
       "        [195.],\n",
       "        [227.],\n",
       "        [245.],\n",
       "        [239.],\n",
       "        [223.],\n",
       "        [218.],\n",
       "        [212.],\n",
       "        [209.],\n",
       "        [222.],\n",
       "        [220.],\n",
       "        [221.],\n",
       "        [230.],\n",
       "        [ 67.]],\n",
       "\n",
       "       [[ 48.],\n",
       "        [203.],\n",
       "        [183.],\n",
       "        [194.],\n",
       "        [213.],\n",
       "        [197.],\n",
       "        [185.],\n",
       "        [190.],\n",
       "        [194.],\n",
       "        [192.],\n",
       "        [202.],\n",
       "        [214.],\n",
       "        [219.],\n",
       "        [221.],\n",
       "        [220.],\n",
       "        [236.],\n",
       "        [225.],\n",
       "        [216.],\n",
       "        [199.],\n",
       "        [206.],\n",
       "        [186.],\n",
       "        [181.],\n",
       "        [177.],\n",
       "        [172.],\n",
       "        [181.],\n",
       "        [205.],\n",
       "        [206.],\n",
       "        [115.]],\n",
       "\n",
       "       [[  0.],\n",
       "        [122.],\n",
       "        [219.],\n",
       "        [193.],\n",
       "        [179.],\n",
       "        [171.],\n",
       "        [183.],\n",
       "        [196.],\n",
       "        [204.],\n",
       "        [210.],\n",
       "        [213.],\n",
       "        [207.],\n",
       "        [211.],\n",
       "        [210.],\n",
       "        [200.],\n",
       "        [196.],\n",
       "        [194.],\n",
       "        [191.],\n",
       "        [195.],\n",
       "        [191.],\n",
       "        [198.],\n",
       "        [192.],\n",
       "        [176.],\n",
       "        [156.],\n",
       "        [167.],\n",
       "        [177.],\n",
       "        [210.],\n",
       "        [ 92.]],\n",
       "\n",
       "       [[  0.],\n",
       "        [  0.],\n",
       "        [ 74.],\n",
       "        [189.],\n",
       "        [212.],\n",
       "        [191.],\n",
       "        [175.],\n",
       "        [172.],\n",
       "        [175.],\n",
       "        [181.],\n",
       "        [185.],\n",
       "        [188.],\n",
       "        [189.],\n",
       "        [188.],\n",
       "        [193.],\n",
       "        [198.],\n",
       "        [204.],\n",
       "        [209.],\n",
       "        [210.],\n",
       "        [210.],\n",
       "        [211.],\n",
       "        [188.],\n",
       "        [188.],\n",
       "        [194.],\n",
       "        [192.],\n",
       "        [216.],\n",
       "        [170.],\n",
       "        [  0.]],\n",
       "\n",
       "       [[  2.],\n",
       "        [  0.],\n",
       "        [  0.],\n",
       "        [  0.],\n",
       "        [ 66.],\n",
       "        [200.],\n",
       "        [222.],\n",
       "        [237.],\n",
       "        [239.],\n",
       "        [242.],\n",
       "        [246.],\n",
       "        [243.],\n",
       "        [244.],\n",
       "        [221.],\n",
       "        [220.],\n",
       "        [193.],\n",
       "        [191.],\n",
       "        [179.],\n",
       "        [182.],\n",
       "        [182.],\n",
       "        [181.],\n",
       "        [176.],\n",
       "        [166.],\n",
       "        [168.],\n",
       "        [ 99.],\n",
       "        [ 58.],\n",
       "        [  0.],\n",
       "        [  0.]],\n",
       "\n",
       "       [[  0.],\n",
       "        [  0.],\n",
       "        [  0.],\n",
       "        [  0.],\n",
       "        [  0.],\n",
       "        [  0.],\n",
       "        [  0.],\n",
       "        [ 40.],\n",
       "        [ 61.],\n",
       "        [ 44.],\n",
       "        [ 72.],\n",
       "        [ 41.],\n",
       "        [ 35.],\n",
       "        [  0.],\n",
       "        [  0.],\n",
       "        [  0.],\n",
       "        [  0.],\n",
       "        [  0.],\n",
       "        [  0.],\n",
       "        [  0.],\n",
       "        [  0.],\n",
       "        [  0.],\n",
       "        [  0.],\n",
       "        [  0.],\n",
       "        [  0.],\n",
       "        [  0.],\n",
       "        [  0.],\n",
       "        [  0.]],\n",
       "\n",
       "       [[  0.],\n",
       "        [  0.],\n",
       "        [  0.],\n",
       "        [  0.],\n",
       "        [  0.],\n",
       "        [  0.],\n",
       "        [  0.],\n",
       "        [  0.],\n",
       "        [  0.],\n",
       "        [  0.],\n",
       "        [  0.],\n",
       "        [  0.],\n",
       "        [  0.],\n",
       "        [  0.],\n",
       "        [  0.],\n",
       "        [  0.],\n",
       "        [  0.],\n",
       "        [  0.],\n",
       "        [  0.],\n",
       "        [  0.],\n",
       "        [  0.],\n",
       "        [  0.],\n",
       "        [  0.],\n",
       "        [  0.],\n",
       "        [  0.],\n",
       "        [  0.],\n",
       "        [  0.],\n",
       "        [  0.]],\n",
       "\n",
       "       [[  0.],\n",
       "        [  0.],\n",
       "        [  0.],\n",
       "        [  0.],\n",
       "        [  0.],\n",
       "        [  0.],\n",
       "        [  0.],\n",
       "        [  0.],\n",
       "        [  0.],\n",
       "        [  0.],\n",
       "        [  0.],\n",
       "        [  0.],\n",
       "        [  0.],\n",
       "        [  0.],\n",
       "        [  0.],\n",
       "        [  0.],\n",
       "        [  0.],\n",
       "        [  0.],\n",
       "        [  0.],\n",
       "        [  0.],\n",
       "        [  0.],\n",
       "        [  0.],\n",
       "        [  0.],\n",
       "        [  0.],\n",
       "        [  0.],\n",
       "        [  0.],\n",
       "        [  0.],\n",
       "        [  0.]]], dtype=float32)"
      ]
     },
     "execution_count": 30,
     "metadata": {},
     "output_type": "execute_result"
    }
   ],
   "source": [
    "train_images[0]"
   ]
  },
  {
   "cell_type": "code",
   "execution_count": 31,
   "id": "bd91a653",
   "metadata": {},
   "outputs": [
    {
     "name": "stdout",
     "output_type": "stream",
     "text": [
      "Model: \"sequential\"\n",
      "_________________________________________________________________\n",
      "Layer (type)                 Output Shape              Param #   \n",
      "=================================================================\n",
      "conv2d (Conv2D)              (None, 26, 26, 32)        320       \n",
      "_________________________________________________________________\n",
      "max_pooling2d (MaxPooling2D) (None, 13, 13, 32)        0         \n",
      "_________________________________________________________________\n",
      "conv2d_1 (Conv2D)            (None, 11, 11, 64)        18496     \n",
      "_________________________________________________________________\n",
      "max_pooling2d_1 (MaxPooling2 (None, 5, 5, 64)          0         \n",
      "_________________________________________________________________\n",
      "conv2d_2 (Conv2D)            (None, 3, 3, 64)          36928     \n",
      "=================================================================\n",
      "Total params: 55,744\n",
      "Trainable params: 55,744\n",
      "Non-trainable params: 0\n",
      "_________________________________________________________________\n"
     ]
    }
   ],
   "source": [
    "#CNN\n",
    "model = models.Sequential()\n",
    "model.add(layers.Conv2D(32,(3,3),activation='relu',input_shape=(28,28,1))) \n",
    "model.add(layers.MaxPool2D(2,2)) \n",
    "model.add(layers.Conv2D(64,(3,3),activation='relu')) \n",
    "model.add(layers.MaxPool2D(2,2))  \n",
    "model.add(layers.Conv2D(64,(3,3),activation='relu')) \n",
    "model.summary()"
   ]
  },
  {
   "cell_type": "code",
   "execution_count": 32,
   "id": "0f96e852",
   "metadata": {},
   "outputs": [
    {
     "name": "stdout",
     "output_type": "stream",
     "text": [
      "Model: \"sequential\"\n",
      "_________________________________________________________________\n",
      "Layer (type)                 Output Shape              Param #   \n",
      "=================================================================\n",
      "conv2d (Conv2D)              (None, 26, 26, 32)        320       \n",
      "_________________________________________________________________\n",
      "max_pooling2d (MaxPooling2D) (None, 13, 13, 32)        0         \n",
      "_________________________________________________________________\n",
      "conv2d_1 (Conv2D)            (None, 11, 11, 64)        18496     \n",
      "_________________________________________________________________\n",
      "max_pooling2d_1 (MaxPooling2 (None, 5, 5, 64)          0         \n",
      "_________________________________________________________________\n",
      "conv2d_2 (Conv2D)            (None, 3, 3, 64)          36928     \n",
      "_________________________________________________________________\n",
      "flatten (Flatten)            (None, 576)               0         \n",
      "_________________________________________________________________\n",
      "dense (Dense)                (None, 64)                36928     \n",
      "_________________________________________________________________\n",
      "dense_1 (Dense)              (None, 10)                650       \n",
      "=================================================================\n",
      "Total params: 93,322\n",
      "Trainable params: 93,322\n",
      "Non-trainable params: 0\n",
      "_________________________________________________________________\n"
     ]
    }
   ],
   "source": [
    "model.add(layers.Flatten())\n",
    "model.add(layers.Dense(64,activation='relu')) #64 is the hidden layer neurons as in regular Deep Neural Network\n",
    "model.add(layers.Dense(10,activation='softmax')) #10 is the number of output neurons based on classes\n",
    "model.summary()"
   ]
  },
  {
   "cell_type": "code",
   "execution_count": 33,
   "id": "b01c99a5",
   "metadata": {},
   "outputs": [],
   "source": [
    "model.compile(optimizer='adam',loss='sparse_categorical_crossentropy',metrics=['accuracy'])"
   ]
  },
  {
   "cell_type": "code",
   "execution_count": 34,
   "id": "b0477887",
   "metadata": {},
   "outputs": [
    {
     "name": "stdout",
     "output_type": "stream",
     "text": [
      "Epoch 1/10\n",
      "2400/2400 [==============================] - 44s 18ms/step - loss: 0.5933 - accuracy: 0.8105 - val_loss: 0.4082 - val_accuracy: 0.8549\n",
      "Epoch 2/10\n",
      "2400/2400 [==============================] - 42s 17ms/step - loss: 0.3577 - accuracy: 0.8700 - val_loss: 0.3351 - val_accuracy: 0.8813\n",
      "Epoch 3/10\n",
      "2400/2400 [==============================] - 43s 18ms/step - loss: 0.3216 - accuracy: 0.8825 - val_loss: 0.3340 - val_accuracy: 0.8834\n",
      "Epoch 4/10\n",
      "2400/2400 [==============================] - 41s 17ms/step - loss: 0.2902 - accuracy: 0.8929 - val_loss: 0.3275 - val_accuracy: 0.8857\n",
      "Epoch 5/10\n",
      "2400/2400 [==============================] - 45s 19ms/step - loss: 0.2721 - accuracy: 0.8990 - val_loss: 0.3281 - val_accuracy: 0.8811\n",
      "Epoch 6/10\n",
      "2400/2400 [==============================] - 42s 17ms/step - loss: 0.2540 - accuracy: 0.9051 - val_loss: 0.3118 - val_accuracy: 0.8911\n",
      "Epoch 7/10\n",
      "2400/2400 [==============================] - 45s 19ms/step - loss: 0.2415 - accuracy: 0.9121 - val_loss: 0.3377 - val_accuracy: 0.8823\n",
      "Epoch 8/10\n",
      "2400/2400 [==============================] - 50s 21ms/step - loss: 0.2275 - accuracy: 0.9146 - val_loss: 0.3189 - val_accuracy: 0.8913\n",
      "Epoch 9/10\n",
      "2400/2400 [==============================] - 49s 20ms/step - loss: 0.2206 - accuracy: 0.9183 - val_loss: 0.3227 - val_accuracy: 0.8934\n",
      "Epoch 10/10\n",
      "2400/2400 [==============================] - 52s 22ms/step - loss: 0.2150 - accuracy: 0.9201 - val_loss: 0.3196 - val_accuracy: 0.8976\n"
     ]
    }
   ],
   "source": [
    "history = model.fit(train_images,train_labels,epochs=10,batch_size=20,validation_split=0.2)"
   ]
  },
  {
   "cell_type": "code",
   "execution_count": 35,
   "id": "81962e93",
   "metadata": {},
   "outputs": [
    {
     "data": {
      "image/png": "[encoded data removed]",
      "text/plain": [
       "<Figure size 576x288 with 2 Axes>"
      ]
     },
     "metadata": {
      "needs_background": "light"
     },
     "output_type": "display_data"
    }
   ],
   "source": [
    "epochs = 10\n",
    "acc = history.history['accuracy']\n",
    "val_acc = history.history['val_accuracy']\n",
    "\n",
    "loss = history.history['loss']\n",
    "val_loss = history.history['val_loss']\n",
    "\n",
    "epochs_range = range(epochs)\n",
    "\n",
    "plt.figure(figsize=(8, 4))\n",
    "plt.subplot(1, 2, 1)\n",
    "plt.plot(epochs_range, acc, label='Training Accuracy')\n",
    "plt.plot(epochs_range, val_acc, label='Validation Accuracy')\n",
    "plt.legend(loc=0)\n",
    "plt.title('Training and Validation Accuracy')\n",
    "\n",
    "plt.subplot(1, 2, 2)\n",
    "plt.plot(epochs_range, loss, label='Training Loss')\n",
    "plt.plot(epochs_range, val_loss, label='Validation Loss')\n",
    "plt.legend(loc=0)\n",
    "plt.title('Training and Validation Loss')\n",
    "plt.show()"
   ]
  },
  {
   "cell_type": "code",
   "execution_count": 37,
   "id": "26ab2367",
   "metadata": {},
   "outputs": [
    {
     "data": {
      "image/png": "[encoded data removed]",
      "text/plain": [
       "<Figure size 432x288 with 1 Axes>"
      ]
     },
     "metadata": {},
     "output_type": "display_data"
    }
   ],
   "source": [
    "plt.imshow(test_images[250],cmap='gray_r')\n",
    "plt.title(test_labels[250])\n",
    "plt.grid(False)\n",
    "plt.xticks([])\n",
    "plt.yticks([])\n",
    "plt.show()"
   ]
  },
  {
   "cell_type": "code",
   "execution_count": 38,
   "id": "e452555c",
   "metadata": {},
   "outputs": [
    {
     "data": {
      "text/plain": [
       "array([[1.3884983e-13, 8.8462163e-12, 8.8826578e-11, 3.2739948e-13,\n",
       "        3.2375361e-10, 2.3466631e-04, 4.1758966e-10, 1.1670658e-02,\n",
       "        5.8729985e-13, 9.8809475e-01]], dtype=float32)"
      ]
     },
     "execution_count": 38,
     "metadata": {},
     "output_type": "execute_result"
    }
   ],
   "source": [
    "model.predict(test_images[250].reshape(1,28,28,1))"
   ]
  },
  {
   "cell_type": "code",
   "execution_count": 39,
   "id": "9e71b198",
   "metadata": {},
   "outputs": [
    {
     "data": {
      "text/plain": [
       "array([[0.   , 0.   , 0.   , 0.   , 0.   , 0.   , 0.   , 0.012, 0.   ,\n",
       "        0.988]], dtype=float32)"
      ]
     },
     "execution_count": 39,
     "metadata": {},
     "output_type": "execute_result"
    }
   ],
   "source": [
    "model.predict(test_images[250].reshape(1,28,28,1)).round(3)"
   ]
  },
  {
   "cell_type": "code",
   "execution_count": 41,
   "id": "b761e789",
   "metadata": {},
   "outputs": [
    {
     "data": {
      "text/plain": [
       "9"
      ]
     },
     "execution_count": 41,
     "metadata": {},
     "output_type": "execute_result"
    }
   ],
   "source": [
    "np.argmax(model.predict(test_images[250].reshape(1,28,28,1)))"
   ]
  },
  {
   "cell_type": "code",
   "execution_count": null,
   "id": "26479045",
   "metadata": {},
   "outputs": [],
   "source": []
  }
 ],
 "metadata": {
  "kernelspec": {
   "display_name": "Python 3",
   "language": "python",
   "name": "python3"
  },
  "language_info": {
   "codemirror_mode": {
    "name": "ipython",
    "version": 3
   },
   "file_extension": ".py",
   "mimetype": "text/x-python",
   "name": "python",
   "nbconvert_exporter": "python",
   "pygments_lexer": "ipython3",
   "version": "3.6.13"
  }
 },
 "nbformat": 4,
 "nbformat_minor": 5
}
